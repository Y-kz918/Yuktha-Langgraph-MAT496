{
  "cells": [
    {
      "cell_type": "markdown",
      "id": "36b496da",
      "metadata": {
        "id": "36b496da"
      },
      "source": [
        "[![Open in Colab](https://colab.research.google.com/assets/colab-badge.svg)](https://colab.research.google.com/github/langchain-ai/langchain-academy/blob/main/module-2/state-reducers.ipynb) [![Open in LangChain Academy](https://cdn.prod.website-files.com/65b8cd72835ceeacd4449a53/66e9eba12c7b7688aa3dbb5e_LCA-badge-green.svg)](https://academy.langchain.com/courses/take/intro-to-langgraph/lessons/58239428-lesson-2-state-reducers)"
      ]
    },
    {
      "cell_type": "markdown",
      "id": "b7ae0ff7-497d-4c31-a57a-00fe92799232",
      "metadata": {
        "id": "b7ae0ff7-497d-4c31-a57a-00fe92799232"
      },
      "source": [
        "# State Reducers\n",
        "\n",
        "## Review\n",
        "\n",
        "We covered a few different ways to define LangGraph state schema, including `TypedDict`, `Pydantic`, or `Dataclasses`.\n",
        "\n",
        "## Goals\n",
        "\n",
        "Now, we're going to dive into reducers, which specify how state updates are performed on specific keys / channels in the state schema."
      ]
    },
    {
      "cell_type": "code",
      "execution_count": null,
      "id": "398c5e8e-641f-4be6-b1e8-7531f86bd2e9",
      "metadata": {
        "id": "398c5e8e-641f-4be6-b1e8-7531f86bd2e9"
      },
      "outputs": [],
      "source": [
        "%%capture --no-stderr\n",
        "%pip install --quiet -U langchain_core langgraph"
      ]
    },
    {
      "cell_type": "markdown",
      "id": "4d5bd534-c5be-48fe-91bc-af39ebee76b7",
      "metadata": {
        "id": "4d5bd534-c5be-48fe-91bc-af39ebee76b7"
      },
      "source": [
        "## Default overwriting state\n",
        "\n",
        "Let's use a `TypedDict` as our state schema."
      ]
    },
    {
      "cell_type": "code",
      "execution_count": null,
      "id": "64e2438c-9353-4256-bc3c-1bb830374c0b",
      "metadata": {
        "id": "64e2438c-9353-4256-bc3c-1bb830374c0b",
        "outputId": "8f8e35f1-533e-4c41-c84f-e7c00f4548bc"
      },
      "outputs": [
        {
          "data": {
            "image/jpeg": "[encoded data removed]",
            "text/plain": [
              "<IPython.core.display.Image object>"
            ]
          },
          "metadata": {},
          "output_type": "display_data"
        }
      ],
      "source": [
        "from typing_extensions import TypedDict\n",
        "from IPython.display import Image, display\n",
        "from langgraph.graph import StateGraph, START, END\n",
        "\n",
        "class State(TypedDict):\n",
        "    foo: int\n",
        "\n",
        "def node_1(state):\n",
        "    print(\"---Node 1---\")\n",
        "    return {\"foo\": state['foo'] + 1}\n",
        "\n",
        "# Build graph\n",
        "builder = StateGraph(State)\n",
        "builder.add_node(\"node_1\", node_1)\n",
        "\n",
        "# Logic\n",
        "builder.add_edge(START, \"node_1\")\n",
        "builder.add_edge(\"node_1\", END)\n",
        "\n",
        "# Add\n",
        "graph = builder.compile()\n",
        "\n",
        "# View\n",
        "display(Image(graph.get_graph().draw_mermaid_png()))"
      ]
    },
    {
      "cell_type": "code",
      "execution_count": null,
      "id": "69634df1-4f02-446f-b5cf-6a83d1e15e37",
      "metadata": {
        "id": "69634df1-4f02-446f-b5cf-6a83d1e15e37",
        "outputId": "f977acb8-7395-4e80-86bd-85c8af28c2fd"
      },
      "outputs": [
        {
          "name": "stdout",
          "output_type": "stream",
          "text": [
            "---Node 1---\n"
          ]
        },
        {
          "data": {
            "text/plain": [
              "{'foo': 2}"
            ]
          },
          "execution_count": 2,
          "metadata": {},
          "output_type": "execute_result"
        }
      ],
      "source": [
        "graph.invoke({\"foo\" : 1})"
      ]
    },
    {
      "cell_type": "markdown",
      "id": "775a099c-c41c-412f-8f05-e7436388ae79",
      "metadata": {
        "id": "775a099c-c41c-412f-8f05-e7436388ae79"
      },
      "source": [
        "Let's look at the state update, `return {\"foo\": state['foo'] + 1}`.\n",
        "\n",
        "As discussed before, by default LangGraph doesn't know the preferred way to update the state.\n",
        "\n",
        "So, it will just overwrite the value of `foo` in `node_1`:\n",
        "\n",
        "```\n",
        "return {\"foo\": state['foo'] + 1}\n",
        "```\n",
        "\n",
        "If we pass `{'foo': 1}` as input, the state returned from the graph is `{'foo': 2}`.\n",
        "\n",
        "## Branching\n",
        "\n",
        "Let's look at a case where our nodes branch."
      ]
    },
    {
      "cell_type": "code",
      "execution_count": null,
      "id": "2b8d6ad4-2991-4325-933d-67057bc150f4",
      "metadata": {
        "id": "2b8d6ad4-2991-4325-933d-67057bc150f4",
        "outputId": "6ed2df42-2744-4df0-8241-dda32960ad58"
      },
      "outputs": [
        {
          "data": {
            "image/jpeg": "[encoded data removed]",
            "text/plain": [
              "<IPython.core.display.Image object>"
            ]
          },
          "metadata": {},
          "output_type": "display_data"
        }
      ],
      "source": [
        "class State(TypedDict):\n",
        "    foo: int\n",
        "\n",
        "def node_1(state):\n",
        "    print(\"---Node 1---\")\n",
        "    return {\"foo\": state['foo'] + 1}\n",
        "\n",
        "def node_2(state):\n",
        "    print(\"---Node 2---\")\n",
        "    return {\"foo\": state['foo'] + 1}\n",
        "\n",
        "def node_3(state):\n",
        "    print(\"---Node 3---\")\n",
        "    return {\"foo\": state['foo'] + 1}\n",
        "\n",
        "# Build graph\n",
        "builder = StateGraph(State)\n",
        "builder.add_node(\"node_1\", node_1)\n",
        "builder.add_node(\"node_2\", node_2)\n",
        "builder.add_node(\"node_3\", node_3)\n",
        "\n",
        "# Logic\n",
        "builder.add_edge(START, \"node_1\")\n",
        "builder.add_edge(\"node_1\", \"node_2\")\n",
        "builder.add_edge(\"node_1\", \"node_3\")\n",
        "builder.add_edge(\"node_2\", END)\n",
        "builder.add_edge(\"node_3\", END)\n",
        "\n",
        "# Add\n",
        "graph = builder.compile()\n",
        "\n",
        "# View\n",
        "display(Image(graph.get_graph().draw_mermaid_png()))"
      ]
    },
    {
      "cell_type": "code",
      "execution_count": null,
      "id": "106729b3",
      "metadata": {
        "id": "106729b3",
        "outputId": "0e14a717-54b4-4660-d888-bd4e6c32c528"
      },
      "outputs": [
        {
          "name": "stdout",
          "output_type": "stream",
          "text": [
            "---Node 1---\n",
            "---Node 2---\n",
            "---Node 3---\n",
            "InvalidUpdateError occurred: At key 'foo': Can receive only one value per step. Use an Annotated key to handle multiple values.\n"
          ]
        }
      ],
      "source": [
        "from langgraph.errors import InvalidUpdateError\n",
        "try:\n",
        "    graph.invoke({\"foo\" : 1})\n",
        "except InvalidUpdateError as e:\n",
        "    print(f\"InvalidUpdateError occurred: {e}\")\n"
      ]
    },
    {
      "cell_type": "markdown",
      "id": "b9717ccd-3d34-476a-8952-e6a7629ebefe",
      "metadata": {
        "id": "b9717ccd-3d34-476a-8952-e6a7629ebefe"
      },
      "source": [
        "We see a problem!\n",
        "\n",
        "Node 1 branches to nodes 2 and 3.\n",
        "\n",
        "Nodes 2 and 3 run in parallel, which means they run in the same step of the graph.\n",
        "\n",
        "They both attempt to overwrite the state *within the same step*.\n",
        "\n",
        "This is ambiguous for the graph! Which state should it keep?"
      ]
    },
    {
      "cell_type": "markdown",
      "id": "f1609cf7-dc47-4926-a154-77904b6cc550",
      "metadata": {
        "id": "f1609cf7-dc47-4926-a154-77904b6cc550"
      },
      "source": [
        "## Reducers\n",
        "\n",
        "[Reducers](https://langchain-ai.github.io/langgraph/concepts/low_level/#reducers) give us a general way to address this problem.\n",
        "\n",
        "They specify how to perform updates.\n",
        "\n",
        "We can use the `Annotated` type to specify a reducer function.\n",
        "\n",
        "For example, in this case let's append the value returned from each node rather than overwriting them.\n",
        "\n",
        "We just need a reducer that can perform this: `operator.add` is a function from Python's built-in operator module.\n",
        "\n",
        "When `operator.add` is applied to lists, it performs list concatenation."
      ]
    },
    {
      "cell_type": "code",
      "execution_count": null,
      "id": "103d808c-55ec-44f2-a688-7b5e1572875a",
      "metadata": {
        "id": "103d808c-55ec-44f2-a688-7b5e1572875a",
        "outputId": "857755eb-64fb-4bbb-b872-4ff10afb1ea1"
      },
      "outputs": [
        {
          "data": {
            "image/jpeg": "[encoded data removed]",
            "text/plain": [
              "<IPython.core.display.Image object>"
            ]
          },
          "metadata": {},
          "output_type": "display_data"
        }
      ],
      "source": [
        "from operator import add\n",
        "from typing import Annotated\n",
        "\n",
        "class State(TypedDict):\n",
        "    foo: Annotated[list[int], add]\n",
        "\n",
        "def node_1(state):\n",
        "    print(\"---Node 1---\")\n",
        "    return {\"foo\": [state['foo'][0] + 1]}\n",
        "\n",
        "# Build graph\n",
        "builder = StateGraph(State)\n",
        "builder.add_node(\"node_1\", node_1)\n",
        "\n",
        "# Logic\n",
        "builder.add_edge(START, \"node_1\")\n",
        "builder.add_edge(\"node_1\", END)\n",
        "\n",
        "# Add\n",
        "graph = builder.compile()\n",
        "\n",
        "# View\n",
        "display(Image(graph.get_graph().draw_mermaid_png()))"
      ]
    },
    {
      "cell_type": "code",
      "execution_count": null,
      "id": "9e68cdff-f6e1-4de5-a7bf-6ca0cfee19bf",
      "metadata": {
        "id": "9e68cdff-f6e1-4de5-a7bf-6ca0cfee19bf",
        "outputId": "c93710f4-9fef-4362-af57-4b720e4493b8"
      },
      "outputs": [
        {
          "name": "stdout",
          "output_type": "stream",
          "text": [
            "---Node 1---\n"
          ]
        },
        {
          "data": {
            "text/plain": [
              "{'foo': [1, 2]}"
            ]
          },
          "execution_count": 6,
          "metadata": {},
          "output_type": "execute_result"
        }
      ],
      "source": [
        "graph.invoke({\"foo\" : [1]})"
      ]
    },
    {
      "cell_type": "markdown",
      "id": "63fbd6e0-0207-4049-b86d-c006cbba630b",
      "metadata": {
        "id": "63fbd6e0-0207-4049-b86d-c006cbba630b"
      },
      "source": [
        "Now, our state key `foo` is a list.\n",
        "\n",
        "This `operator.add` reducer function will append updates from each node to this list."
      ]
    },
    {
      "cell_type": "code",
      "execution_count": null,
      "id": "768fd0ed-5e24-44a4-b14d-0e299310e105",
      "metadata": {
        "id": "768fd0ed-5e24-44a4-b14d-0e299310e105",
        "outputId": "e1b3348e-c7e5-4dd2-ffc2-cf8c108b79ca"
      },
      "outputs": [
        {
          "data": {
            "image/jpeg": "[encoded data removed]",
            "text/plain": [
              "<IPython.core.display.Image object>"
            ]
          },
          "metadata": {},
          "output_type": "display_data"
        }
      ],
      "source": [
        "def node_1(state):\n",
        "    print(\"---Node 1---\")\n",
        "    return {\"foo\": [state['foo'][-1] + 1]}\n",
        "\n",
        "def node_2(state):\n",
        "    print(\"---Node 2---\")\n",
        "    return {\"foo\": [state['foo'][-1] + 1]}\n",
        "\n",
        "def node_3(state):\n",
        "    print(\"---Node 3---\")\n",
        "    return {\"foo\": [state['foo'][-1] + 1]}\n",
        "\n",
        "# Build graph\n",
        "builder = StateGraph(State)\n",
        "builder.add_node(\"node_1\", node_1)\n",
        "builder.add_node(\"node_2\", node_2)\n",
        "builder.add_node(\"node_3\", node_3)\n",
        "\n",
        "# Logic\n",
        "builder.add_edge(START, \"node_1\")\n",
        "builder.add_edge(\"node_1\", \"node_2\")\n",
        "builder.add_edge(\"node_1\", \"node_3\")\n",
        "builder.add_edge(\"node_2\", END)\n",
        "builder.add_edge(\"node_3\", END)\n",
        "\n",
        "# Add\n",
        "graph = builder.compile()\n",
        "\n",
        "# View\n",
        "display(Image(graph.get_graph().draw_mermaid_png()))"
      ]
    },
    {
      "cell_type": "markdown",
      "id": "5439baad-5a75-4188-b936-dbe74cdd9078",
      "metadata": {
        "id": "5439baad-5a75-4188-b936-dbe74cdd9078"
      },
      "source": [
        "We can see that updates in nodes 2 and 3 are performed concurrently because they are in the same step."
      ]
    },
    {
      "cell_type": "code",
      "execution_count": null,
      "id": "44598f97-0a59-4ed4-9d9a-e15a98b3d8fb",
      "metadata": {
        "id": "44598f97-0a59-4ed4-9d9a-e15a98b3d8fb",
        "outputId": "03162565-ec5f-4318-bb9a-79952c24ba19"
      },
      "outputs": [
        {
          "name": "stdout",
          "output_type": "stream",
          "text": [
            "---Node 1---\n",
            "---Node 2---\n",
            "---Node 3---\n"
          ]
        },
        {
          "data": {
            "text/plain": [
              "{'foo': [1, 2, 3, 3]}"
            ]
          },
          "execution_count": 8,
          "metadata": {},
          "output_type": "execute_result"
        }
      ],
      "source": [
        "graph.invoke({\"foo\" : [1]})"
      ]
    },
    {
      "cell_type": "markdown",
      "id": "87faaa07-2955-4466-9bca-4b536e05f260",
      "metadata": {
        "id": "87faaa07-2955-4466-9bca-4b536e05f260"
      },
      "source": [
        "Now, let's see what happens if we pass `None` to `foo`.\n",
        "\n",
        "We see an error because our reducer, `operator.add`, attempts to concatenate `NoneType` pass as input to list in `node_1`."
      ]
    },
    {
      "cell_type": "code",
      "execution_count": null,
      "id": "7f05984b-2bc7-48d1-b070-c8a001a6b59a",
      "metadata": {
        "id": "7f05984b-2bc7-48d1-b070-c8a001a6b59a",
        "outputId": "c46caaac-4773-4ea7-b330-308910d5c9d6"
      },
      "outputs": [
        {
          "name": "stdout",
          "output_type": "stream",
          "text": [
            "TypeError occurred: can only concatenate list (not \"NoneType\") to list\n"
          ]
        }
      ],
      "source": [
        "try:\n",
        "    graph.invoke({\"foo\" : None})\n",
        "except TypeError as e:\n",
        "    print(f\"TypeError occurred: {e}\")"
      ]
    },
    {
      "cell_type": "markdown",
      "id": "4f9d4930-ee8f-4ffc-b9e1-3c910b2e15f6",
      "metadata": {
        "id": "4f9d4930-ee8f-4ffc-b9e1-3c910b2e15f6"
      },
      "source": [
        "## Custom Reducers\n",
        "\n",
        "To address cases like this, [we can also define custom reducers](https://langchain-ai.github.io/langgraph/how-tos/subgraph/#custom-reducer-functions-to-manage-state).\n",
        "\n",
        "For example, lets define custom reducer logic to combine lists and handle cases where either or both of the inputs might be `None`."
      ]
    },
    {
      "cell_type": "code",
      "execution_count": null,
      "id": "3314219d-29ff-4b78-b18e-fa9f7878a02f",
      "metadata": {
        "id": "3314219d-29ff-4b78-b18e-fa9f7878a02f"
      },
      "outputs": [],
      "source": [
        "def reduce_list(left: list | None, right: list | None) -> list:\n",
        "    \"\"\"Safely combine two lists, handling cases where either or both inputs might be None.\n",
        "\n",
        "    Args:\n",
        "        left (list | None): The first list to combine, or None.\n",
        "        right (list | None): The second list to combine, or None.\n",
        "\n",
        "    Returns:\n",
        "        list: A new list containing all elements from both input lists.\n",
        "               If an input is None, it's treated as an empty list.\n",
        "    \"\"\"\n",
        "    if not left:\n",
        "        left = []\n",
        "    if not right:\n",
        "        right = []\n",
        "    return left + right\n",
        "\n",
        "class DefaultState(TypedDict):\n",
        "    foo: Annotated[list[int], add]\n",
        "\n",
        "class CustomReducerState(TypedDict):\n",
        "    foo: Annotated[list[int], reduce_list]"
      ]
    },
    {
      "cell_type": "markdown",
      "id": "dcdea26a-38d0-4faf-9bf6-cd52eb902635",
      "metadata": {
        "id": "dcdea26a-38d0-4faf-9bf6-cd52eb902635"
      },
      "source": [
        "In `node_1`, we append the value 2."
      ]
    },
    {
      "cell_type": "code",
      "execution_count": null,
      "id": "f5f270db-6eff-47c9-853b-dfb8108ff28c",
      "metadata": {
        "id": "f5f270db-6eff-47c9-853b-dfb8108ff28c",
        "outputId": "35f373da-7b3d-4b60-e8ed-3d220a36bcf3"
      },
      "outputs": [
        {
          "data": {
            "image/jpeg": "[encoded data removed]",
            "text/plain": [
              "<IPython.core.display.Image object>"
            ]
          },
          "metadata": {},
          "output_type": "display_data"
        },
        {
          "name": "stdout",
          "output_type": "stream",
          "text": [
            "TypeError occurred: can only concatenate list (not \"NoneType\") to list\n"
          ]
        }
      ],
      "source": [
        "def node_1(state):\n",
        "    print(\"---Node 1---\")\n",
        "    return {\"foo\": [2]}\n",
        "\n",
        "# Build graph\n",
        "builder = StateGraph(DefaultState)\n",
        "builder.add_node(\"node_1\", node_1)\n",
        "\n",
        "# Logic\n",
        "builder.add_edge(START, \"node_1\")\n",
        "builder.add_edge(\"node_1\", END)\n",
        "\n",
        "# Add\n",
        "graph = builder.compile()\n",
        "\n",
        "# View\n",
        "display(Image(graph.get_graph().draw_mermaid_png()))\n",
        "\n",
        "try:\n",
        "    print(graph.invoke({\"foo\" : None}))\n",
        "except TypeError as e:\n",
        "    print(f\"TypeError occurred: {e}\")"
      ]
    },
    {
      "cell_type": "markdown",
      "id": "fd21936b-62f1-4311-9ce5-2c7d08aa35bf",
      "metadata": {
        "id": "fd21936b-62f1-4311-9ce5-2c7d08aa35bf"
      },
      "source": [
        "Now, try with our custom reducer. We can see that no error is thrown."
      ]
    },
    {
      "cell_type": "code",
      "execution_count": null,
      "id": "867784bc-796c-4b1e-a4d3-2810395cf5e2",
      "metadata": {
        "id": "867784bc-796c-4b1e-a4d3-2810395cf5e2",
        "outputId": "fdb84013-275c-44b3-d3a6-5f83eea75bf9"
      },
      "outputs": [
        {
          "data": {
            "image/jpeg": "[encoded data removed]",
            "text/plain": [
              "<IPython.core.display.Image object>"
            ]
          },
          "metadata": {},
          "output_type": "display_data"
        },
        {
          "name": "stdout",
          "output_type": "stream",
          "text": [
            "---Node 1---\n",
            "{'foo': [2]}\n"
          ]
        }
      ],
      "source": [
        "# Build graph\n",
        "builder = StateGraph(CustomReducerState)\n",
        "builder.add_node(\"node_1\", node_1)\n",
        "\n",
        "# Logic\n",
        "builder.add_edge(START, \"node_1\")\n",
        "builder.add_edge(\"node_1\", END)\n",
        "\n",
        "# Add\n",
        "graph = builder.compile()\n",
        "\n",
        "# View\n",
        "display(Image(graph.get_graph().draw_mermaid_png()))\n",
        "\n",
        "try:\n",
        "    print(graph.invoke({\"foo\" : None}))\n",
        "except TypeError as e:\n",
        "    print(f\"TypeError occurred: {e}\")"
      ]
    },
    {
      "cell_type": "markdown",
      "id": "b7ebc65e-c185-4981-a6e7-20fe37d2f8fe",
      "metadata": {
        "id": "b7ebc65e-c185-4981-a6e7-20fe37d2f8fe"
      },
      "source": [
        "## Messages\n",
        "\n",
        "In module 1, we showed how to use a built-in reducer, `add_messages`, to handle messages in state.\n",
        "\n",
        "We also showed that [`MessagesState` is a useful shortcut if you want to work with messages](https://langchain-ai.github.io/langgraph/concepts/low_level/#messagesstate).\n",
        "\n",
        "* `MessagesState` has a built-in `messages` key\n",
        "* It also has a built-in `add_messages` reducer for this key\n",
        "\n",
        "These two are equivalent.\n",
        "\n",
        "We'll use the `MessagesState` class via `from langgraph.graph import MessagesState` for brevity.\n"
      ]
    },
    {
      "cell_type": "code",
      "execution_count": null,
      "id": "901e69e5-c4cb-4d58-82fb-3b7d968758e3",
      "metadata": {
        "id": "901e69e5-c4cb-4d58-82fb-3b7d968758e3"
      },
      "outputs": [],
      "source": [
        "from typing import Annotated\n",
        "from langgraph.graph import MessagesState\n",
        "from langchain_core.messages import AnyMessage\n",
        "from langgraph.graph.message import add_messages\n",
        "\n",
        "# Define a custom TypedDict that includes a list of messages with add_messages reducer\n",
        "class CustomMessagesState(TypedDict):\n",
        "    messages: Annotated[list[AnyMessage], add_messages]\n",
        "    added_key_1: str\n",
        "    added_key_2: str\n",
        "    # etc\n",
        "\n",
        "# Use MessagesState, which includes the messages key with add_messages reducer\n",
        "class ExtendedMessagesState(MessagesState):\n",
        "    # Add any keys needed beyond messages, which is pre-built\n",
        "    added_key_1: str\n",
        "    added_key_2: str\n",
        "    # etc"
      ]
    },
    {
      "cell_type": "markdown",
      "id": "287805e4-722a-4428-b040-2892b29de870",
      "metadata": {
        "id": "287805e4-722a-4428-b040-2892b29de870"
      },
      "source": [
        "Let's talk a bit more about usage of the `add_messages` reducer."
      ]
    },
    {
      "cell_type": "code",
      "execution_count": null,
      "id": "c8f61350-4fe0-4a2b-bb24-9305afb3c668",
      "metadata": {
        "id": "c8f61350-4fe0-4a2b-bb24-9305afb3c668",
        "outputId": "0b65d34f-893a-469a-b5be-1c18d6d98424"
      },
      "outputs": [
        {
          "data": {
            "text/plain": [
              "[AIMessage(content='Hello! How can I assist you?', name='Model', id='f470d868-cf1b-45b2-ae16-48154cd55c12'),\n",
              " HumanMessage(content=\"I'm looking for information on marine biology.\", name='Lance', id='a07a88c5-cb2a-4cbd-9485-5edb9d658366'),\n",
              " AIMessage(content='Sure, I can help with that. What specifically are you interested in?', name='Model', id='7938e615-86c2-4cbb-944b-c9b2342dee68')]"
            ]
          },
          "execution_count": 13,
          "metadata": {},
          "output_type": "execute_result"
        }
      ],
      "source": [
        "from langgraph.graph.message import add_messages\n",
        "from langchain_core.messages import AIMessage, HumanMessage\n",
        "\n",
        "# Initial state\n",
        "initial_messages = [AIMessage(content=\"Hello! How can I assist you?\", name=\"Model\"),\n",
        "                    HumanMessage(content=\"I'm looking for information on marine biology.\", name=\"Lance\")\n",
        "                   ]\n",
        "\n",
        "# New message to add\n",
        "new_message = AIMessage(content=\"Sure, I can help with that. What specifically are you interested in?\", name=\"Model\")\n",
        "\n",
        "# Test\n",
        "add_messages(initial_messages , new_message)"
      ]
    },
    {
      "cell_type": "markdown",
      "id": "bc492370-0502-43e6-87cc-181c60b3dbdb",
      "metadata": {
        "id": "bc492370-0502-43e6-87cc-181c60b3dbdb"
      },
      "source": [
        "So we can see that `add_messages` allows us to append messages to the `messages` key in our state.\n",
        "\n",
        "### Re-writing\n",
        "\n",
        "Let's show some useful tricks when working with the `add_messages` reducer.\n",
        "\n",
        "If we pass a message with the same ID as an existing one in our `messages` list, it will get overwritten!"
      ]
    },
    {
      "cell_type": "code",
      "execution_count": null,
      "id": "1f6f82fd-a5a8-4e98-80f6-bb058f2acc47",
      "metadata": {
        "id": "1f6f82fd-a5a8-4e98-80f6-bb058f2acc47",
        "outputId": "1876a368-9b33-4540-9822-a49bbf03d4ab"
      },
      "outputs": [
        {
          "data": {
            "text/plain": [
              "[AIMessage(content='Hello! How can I assist you?', name='Model', id='1'),\n",
              " HumanMessage(content=\"I'm looking for information on whales, specifically\", name='Lance', id='2')]"
            ]
          },
          "execution_count": 14,
          "metadata": {},
          "output_type": "execute_result"
        }
      ],
      "source": [
        "# Initial state\n",
        "initial_messages = [AIMessage(content=\"Hello! How can I assist you?\", name=\"Model\", id=\"1\"),\n",
        "                    HumanMessage(content=\"I'm looking for information on marine biology.\", name=\"Lance\", id=\"2\")\n",
        "                   ]\n",
        "\n",
        "# New message to add\n",
        "new_message = HumanMessage(content=\"I'm looking for information on whales, specifically\", name=\"Lance\", id=\"2\")\n",
        "\n",
        "# Test\n",
        "add_messages(initial_messages , new_message)"
      ]
    },
    {
      "cell_type": "markdown",
      "id": "f06e7788-7054-4752-99fe-27ebb901f263",
      "metadata": {
        "id": "f06e7788-7054-4752-99fe-27ebb901f263"
      },
      "source": [
        "### Removal\n",
        "\n",
        "`add_messages` also [enables message removal](https://langchain-ai.github.io/langgraph/how-tos/memory/delete-messages/).\n",
        "\n",
        "For this, we simply use [RemoveMessage](https://api.python.langchain.com/en/latest/messages/langchain_core.messages.modifier.RemoveMessage.html) from `langchain_core`."
      ]
    },
    {
      "cell_type": "code",
      "execution_count": null,
      "id": "67ac97e5-efe2-40bc-9fe3-fd4f50922b8b",
      "metadata": {
        "id": "67ac97e5-efe2-40bc-9fe3-fd4f50922b8b",
        "outputId": "fdb236f8-270a-48e5-80a2-93a7341d70b7"
      },
      "outputs": [
        {
          "name": "stdout",
          "output_type": "stream",
          "text": [
            "[RemoveMessage(content='', id='1'), RemoveMessage(content='', id='2')]\n"
          ]
        },
        {
          "name": "stderr",
          "output_type": "stream",
          "text": [
            "/var/folders/l9/bpjxdmfx7lvd1fbdjn38y5dh0000gn/T/ipykernel_17703/3097054180.py:10: LangChainBetaWarning: The class `RemoveMessage` is in beta. It is actively being worked on, so the API may change.\n",
            "  delete_messages = [RemoveMessage(id=m.id) for m in messages[:-2]]\n"
          ]
        }
      ],
      "source": [
        "from langchain_core.messages import RemoveMessage\n",
        "\n",
        "# Message list\n",
        "messages = [AIMessage(\"Hi.\", name=\"Bot\", id=\"1\")]\n",
        "messages.append(HumanMessage(\"Hi.\", name=\"Lance\", id=\"2\"))\n",
        "messages.append(AIMessage(\"So you said you were researching ocean mammals?\", name=\"Bot\", id=\"3\"))\n",
        "messages.append(HumanMessage(\"Yes, I know about whales. But what others should I learn about?\", name=\"Lance\", id=\"4\"))\n",
        "\n",
        "# Isolate messages to delete\n",
        "delete_messages = [RemoveMessage(id=m.id) for m in messages[:-2]]\n",
        "print(delete_messages)"
      ]
    },
    {
      "cell_type": "code",
      "execution_count": null,
      "id": "2d250578-3ec0-452e-91c0-072d785d96db",
      "metadata": {
        "id": "2d250578-3ec0-452e-91c0-072d785d96db",
        "outputId": "7baaf1d5-03fa-493b-da60-79931aa64c71"
      },
      "outputs": [
        {
          "data": {
            "text/plain": [
              "[AIMessage(content='So you said you were researching ocean mammals?', name='Bot', id='3'),\n",
              " HumanMessage(content='Yes, I know about whales. But what others should I learn about?', name='Lance', id='4')]"
            ]
          },
          "execution_count": 16,
          "metadata": {},
          "output_type": "execute_result"
        }
      ],
      "source": [
        "add_messages(messages , delete_messages)"
      ]
    },
    {
      "cell_type": "markdown",
      "id": "5db095c5-6d9a-4e62-a097-0403797511f6",
      "metadata": {
        "id": "5db095c5-6d9a-4e62-a097-0403797511f6"
      },
      "source": [
        "We can see that mesage IDs 1 and 2, as noted in `delete_messages` are removed by the reducer.\n",
        "\n",
        "We'll see this put into practice a bit later."
      ]
    },
    {
      "cell_type": "markdown",
      "source": [
        "# MY EXAMPLES:"
      ],
      "metadata": {
        "id": "ABuXQ-KGKaTj"
      },
      "id": "ABuXQ-KGKaTj"
    },
    {
      "cell_type": "markdown",
      "metadata": {
        "id": "78ee9c58"
      },
      "source": [
        "# Default overwriting state:"
      ],
      "id": "78ee9c58"
    },
    {
      "cell_type": "code",
      "metadata": {
        "colab": {
          "base_uri": "https://localhost:8080/",
          "height": 338
        },
        "id": "9e8a43e9",
        "outputId": "247b2776-d90e-4907-dbf5-86d5bf997312"
      },
      "source": [
        "from typing_extensions import TypedDict\n",
        "from langgraph.graph import StateGraph, START, END\n",
        "from IPython.display import Image, display # Import Image and display\n",
        "\n",
        "# 1. Define a new TypedDict for the state\n",
        "class NewState(TypedDict):\n",
        "    message: str\n",
        "    count: int\n",
        "\n",
        "# 2. Define a simple node function\n",
        "def update_state_node(state: NewState) -> dict:\n",
        "    print(\"---Updating State Node---\")\n",
        "    # 3. Inside the node function, update the value of one of the state keys\n",
        "    # Do not include a reducer for this key in the state definition.\n",
        "    updated_count = state['count'] + 5\n",
        "    return {\"count\": updated_count}\n",
        "\n",
        "# 4. Build a StateGraph with the new state definition and add the node\n",
        "builder = StateGraph(NewState)\n",
        "builder.add_node(\"update_node\", update_state_node)\n",
        "\n",
        "# 5. Add an edge from START to the node and from the node to END\n",
        "builder.add_edge(START, \"update_node\")\n",
        "builder.add_edge(\"update_node\", END)\n",
        "\n",
        "# 6. Compile the graph\n",
        "graph = builder.compile()\n",
        "\n",
        "# Display the graph\n",
        "print(\"\\nGraph for Default Overwriting State:\")\n",
        "display(Image(graph.get_graph().draw_mermaid_png()))\n",
        "\n",
        "# 7. Invoke the compiled graph with an initial state\n",
        "initial_state = {\"message\": \"Initial message\", \"count\": 10}\n",
        "print(f\"Initial state: {initial_state}\")\n",
        "result = graph.invoke(initial_state)\n",
        "\n",
        "# 8. Print the output\n",
        "print(f\"Final state: {result}\")"
      ],
      "id": "9e8a43e9",
      "execution_count": 46,
      "outputs": [
        {
          "output_type": "stream",
          "name": "stdout",
          "text": [
            "\n",
            "Graph for Default Overwriting State:\n"
          ]
        },
        {
          "output_type": "display_data",
          "data": {
            "image/png": "[encoded data removed]",
            "text/plain": [
              "<IPython.core.display.Image object>"
            ]
          },
          "metadata": {}
        },
        {
          "output_type": "stream",
          "name": "stdout",
          "text": [
            "Initial state: {'message': 'Initial message', 'count': 10}\n",
            "---Updating State Node---\n",
            "Final state: {'message': 'Initial message', 'count': 15}\n"
          ]
        }
      ]
    },
    {
      "cell_type": "markdown",
      "metadata": {
        "id": "2b0236fc"
      },
      "source": [
        "## Branching with default overwriting:\n"
      ],
      "id": "2b0236fc"
    },
    {
      "cell_type": "code",
      "metadata": {
        "colab": {
          "base_uri": "https://localhost:8080/",
          "height": 918
        },
        "id": "61d262a6",
        "outputId": "7c4d3523-2684-409e-cc52-c4142e9ed198"
      },
      "source": [
        "from typing_extensions import TypedDict\n",
        "from langgraph.graph import StateGraph, START, END\n",
        "from langgraph.errors import InvalidUpdateError\n",
        "from IPython.display import Image, display # Import Image and display\n",
        "\n",
        "\n",
        "# 1. Define a new TypedDict for the state\n",
        "class BranchingState(TypedDict):\n",
        "    value: int\n",
        "    branch_selector: str # Key to control branching\n",
        "\n",
        "# 2. Define at least three node functions\n",
        "def initial_node(state: BranchingState) -> dict:\n",
        "    print(\"---Initial Node---\")\n",
        "    # Return a state update that leads to branching\n",
        "    # Let's use the 'value' to determine the branch\n",
        "    if state['value'] % 2 == 0:\n",
        "        return {\"branch_selector\": \"even\"}\n",
        "    else:\n",
        "        return {\"branch_selector\": \"odd\"}\n",
        "\n",
        "def even_node(state: BranchingState) -> dict:\n",
        "    print(\"---Even Node---\")\n",
        "    # Attempt to update the same key 'value' using default overwriting\n",
        "    return {\"value\": state['value'] + 10}\n",
        "\n",
        "def odd_node(state: BranchingState) -> dict:\n",
        "    print(\"---Odd Node---\")\n",
        "    # Attempt to update the same key 'value' using default overwriting\n",
        "    return {\"value\": state['value'] + 20}\n",
        "\n",
        "# Define a conditional edge function based on 'branch_selector'\n",
        "def select_branch(state: BranchingState) -> str:\n",
        "    return state.get(\"branch_selector\", \"\") # Default to empty string if key not present\n",
        "\n",
        "# 3. Build a StateGraph with the new state definition and add all the defined nodes\n",
        "# Clearing previous edges and redefining for parallel execution from initial_node\n",
        "builder = StateGraph(BranchingState) # Use BranchingState here\n",
        "builder.add_node(\"initial\", initial_node)\n",
        "builder.add_node(\"even_update\", even_node)\n",
        "builder.add_node(\"odd_update\", odd_node)\n",
        "\n",
        "builder.add_edge(START, \"initial\")\n",
        "\n",
        "# Conditional edge from initial_node to demonstrate branching, not parallel update conflict\n",
        "builder.add_conditional_edges(\n",
        "    \"initial\",    # From node\n",
        "    select_branch, # Conditional edge function\n",
        "    {             # Mapping of condition outcome to next node\n",
        "        \"even\": \"even_update\",\n",
        "        \"odd\": \"odd_update\",\n",
        "    },\n",
        ")\n",
        "\n",
        "# Add edges from the branching nodes to END\n",
        "builder.add_edge(\"even_update\", END)\n",
        "builder.add_edge(\"odd_update\", END)\n",
        "\n",
        "graph = builder.compile()\n",
        "\n",
        "# Display the graph for the branching example\n",
        "print(\"\\nGraph for Branching (Conditional Edges):\")\n",
        "display(Image(graph.get_graph().draw_mermaid_png()))\n",
        "\n",
        "\n",
        "# Now, let's create a graph that *will* cause the InvalidUpdateError for branching\n",
        "class ConflictingState(TypedDict):\n",
        "    value: int\n",
        "\n",
        "def node_A(state: ConflictingState) -> dict:\n",
        "    print(\"---Node A---\")\n",
        "    # Returns an update, but doesn't cause the branch directly by its return value\n",
        "    # The branch will be defined by edges\n",
        "    return {\"value\": state['value'] + 1}\n",
        "\n",
        "def node_B_parallel(state: ConflictingState) -> dict:\n",
        "    print(\"---Node B (Parallel)---\")\n",
        "    # Attempts to update the same key 'value' using default overwriting\n",
        "    return {\"value\": state['value'] + 10}\n",
        "\n",
        "def node_C_parallel(state: ConflictingState) -> dict:\n",
        "    print(\"---Node C (Parallel)---\")\n",
        "    # Attempts to update the same key 'value' using default overwriting\n",
        "    return {\"value\": state['value'] + 20}\n",
        "\n",
        "# Build graph for parallel update conflict\n",
        "builder = StateGraph(ConflictingState)\n",
        "builder.add_node(\"node_A\", node_A)\n",
        "builder.add_node(\"node_B_parallel\", node_B_parallel)\n",
        "builder.add_node(\"node_C_parallel\", node_C_parallel)\n",
        "\n",
        "# Logic: Node A branches to Node B and Node C, causing parallel execution of B and C\n",
        "builder.add_edge(START, \"node_A\")\n",
        "builder.add_edge(\"node_A\", \"node_B_parallel\")\n",
        "builder.add_edge(\"node_A\", \"node_C_parallel\") # This creates the branching that leads to parallel execution of B and C\n",
        "\n",
        "# Add edges from the parallel nodes to END\n",
        "builder.add_edge(\"node_B_parallel\", END)\n",
        "builder.add_edge(\"node_C_parallel\", END)\n",
        "\n",
        "# 6. Compile the graph\n",
        "graph = builder.compile()\n",
        "\n",
        "# Display the graph for the conflicting parallel update example\n",
        "print(\"\\nGraph for Branching (Parallel Update Conflict):\")\n",
        "display(Image(graph.get_graph().draw_mermaid_png()))\n",
        "\n",
        "\n",
        "# 7. Use a try...except InvalidUpdateError block to invoke the compiled graph\n",
        "initial_state = {\"value\": 5}\n",
        "print(f\"Attempting to invoke graph with initial state: {initial_state}\")\n",
        "\n",
        "try:\n",
        "    graph.invoke(initial_state)\n",
        "except InvalidUpdateError as e:\n",
        "    # 8. Inside the except block, print the error message\n",
        "    print(f\"\\nCaught expected InvalidUpdateError: {e}\")"
      ],
      "id": "61d262a6",
      "execution_count": 47,
      "outputs": [
        {
          "output_type": "stream",
          "name": "stdout",
          "text": [
            "\n",
            "Graph for Branching (Conditional Edges):\n"
          ]
        },
        {
          "output_type": "display_data",
          "data": {
            "image/png": "[encoded data removed]",
            "text/plain": [
              "<IPython.core.display.Image object>"
            ]
          },
          "metadata": {}
        },
        {
          "output_type": "stream",
          "name": "stdout",
          "text": [
            "\n",
            "Graph for Branching (Parallel Update Conflict):\n"
          ]
        },
        {
          "output_type": "display_data",
          "data": {
            "image/png": "[encoded data removed]",
            "text/plain": [
              "<IPython.core.display.Image object>"
            ]
          },
          "metadata": {}
        },
        {
          "output_type": "stream",
          "name": "stdout",
          "text": [
            "Attempting to invoke graph with initial state: {'value': 5}\n",
            "---Node A---\n",
            "---Node B (Parallel)---\n",
            "---Node C (Parallel)---\n",
            "\n",
            "Caught expected InvalidUpdateError: At key 'value': Can receive only one value per step. Use an Annotated key to handle multiple values.\n",
            "For troubleshooting, visit: https://python.langchain.com/docs/troubleshooting/errors/INVALID_CONCURRENT_GRAPH_UPDATE\n"
          ]
        }
      ]
    },
    {
      "cell_type": "markdown",
      "metadata": {
        "id": "52617c28"
      },
      "source": [
        "## Custom reducers example:\n"
      ],
      "id": "52617c28"
    },
    {
      "cell_type": "code",
      "metadata": {
        "colab": {
          "base_uri": "https://localhost:8080/",
          "height": 561
        },
        "id": "TUjno7ufIfrF",
        "outputId": "7969114a-8b65-46e6-a777-3193babc5296"
      },
      "source": [
        "from typing import Annotated\n",
        "from typing_extensions import TypedDict\n",
        "from langgraph.graph import StateGraph, START, END\n",
        "from operator import add\n",
        "from IPython.display import Image, display # Import Image and display\n",
        "\n",
        "\n",
        "# 1. Define a TypedDict for the state with at least one key annotated with a custom reducer.\n",
        "# The key should hold a data structure other than a list or a simple integer/string (e.g., a dictionary).\n",
        "def merge_dictionaries(left: dict | None, right: dict | None) -> dict:\n",
        "    \"\"\"Custom reducer to merge two dictionaries. Handles None inputs.\"\"\"\n",
        "    left = left if left is not None else {}\n",
        "    right = right if right is not None else {}\n",
        "    # Merge dictionaries, with values from 'right' overwriting values from 'left' in case of shared keys\n",
        "    return {**left, **right}\n",
        "\n",
        "class ComplexState(TypedDict):\n",
        "    # Annotated key with the custom dictionary merging reducer\n",
        "    settings: Annotated[dict[str, str], merge_dictionaries]\n",
        "    status: str\n",
        "    # Corrected reducer for the log key to use operator.add for list concatenation\n",
        "    log: Annotated[list[str], add]\n",
        "\n",
        "# 2. Define at least one node function that returns an update for the annotated state key.\n",
        "def update_settings_node(state: ComplexState) -> dict:\n",
        "    print(\"---Updating Settings Node---\")\n",
        "    # Return an update for the 'settings' dictionary and add a log entry\n",
        "    new_settings = {\"theme\": \"dark\", \"language\": \"en\"}\n",
        "    # Return a list for the log update so operator.add can concatenate it\n",
        "    return {\"settings\": new_settings, \"status\": \"settings_updated\", \"log\": [\"settings updated\"]}\n",
        "\n",
        "def add_more_settings_node(state: ComplexState) -> dict:\n",
        "    print(\"---Adding More Settings Node---\")\n",
        "    # Return another update for the 'settings' dictionary\n",
        "    more_settings = {\"language\": \"fr\", \"notifications\": \"off\"}\n",
        "     # Return a list for the log update\n",
        "    return {\"settings\": more_settings, \"log\": [\"more settings added\"]}\n",
        "\n",
        "\n",
        "# 3. Build a StateGraph using the defined state and node(s).\n",
        "builder = StateGraph(ComplexState)\n",
        "builder.add_node(\"update_settings\", update_settings_node)\n",
        "builder.add_node(\"add_more_settings\", add_more_settings_node)\n",
        "\n",
        "# 4. Add appropriate edges to the graph (e.g., from START to the node, and from the node to END).\n",
        "builder.add_edge(START, \"update_settings\")\n",
        "builder.add_edge(\"update_settings\", \"add_more_settings\") # Chain the nodes to see multiple updates\n",
        "builder.add_edge(\"add_more_settings\", END)\n",
        "\n",
        "# 5. Compile the graph.\n",
        "graph = builder.compile()\n",
        "\n",
        "# Display the graph\n",
        "print(\"\\nGraph for Custom Reducers:\")\n",
        "display(Image(graph.get_graph().draw_mermaid_png()))\n",
        "\n",
        "# 6. Invoke the compiled graph with an initial state that includes a value for the annotated key.\n",
        "initial_state = {\"settings\": {\"theme\": \"light\"}, \"status\": \"initial\", \"log\": [\"start\"]}\n",
        "print(f\"Initial state: {initial_state}\")\n",
        "result = graph.invoke(initial_state)\n",
        "\n",
        "# 8. Print the output of the graph invocation to demonstrate the effect of the custom reducer on the state.\n",
        "print(f\"Final state: {result}\")\n",
        "\n",
        "# Invoke again with None for settings to show None handling\n",
        "initial_state_none = {\"settings\": None, \"status\": \"initial\", \"log\": [\"start_none\"]}\n",
        "print(f\"\\nInitial state (settings=None): {initial_state_none}\")\n",
        "result_none = graph.invoke(initial_state_none)\n",
        "print(f\"Final state (settings=None): {result_none}\")"
      ],
      "id": "TUjno7ufIfrF",
      "execution_count": 48,
      "outputs": [
        {
          "output_type": "stream",
          "name": "stdout",
          "text": [
            "\n",
            "Graph for Custom Reducers:\n"
          ]
        },
        {
          "output_type": "display_data",
          "data": {
            "image/png": "[encoded data removed]",
            "text/plain": [
              "<IPython.core.display.Image object>"
            ]
          },
          "metadata": {}
        },
        {
          "output_type": "stream",
          "name": "stdout",
          "text": [
            "Initial state: {'settings': {'theme': 'light'}, 'status': 'initial', 'log': ['start']}\n",
            "---Updating Settings Node---\n",
            "---Adding More Settings Node---\n",
            "Final state: {'settings': {'theme': 'dark', 'language': 'fr', 'notifications': 'off'}, 'status': 'settings_updated', 'log': ['start', 'settings updated', 'more settings added']}\n",
            "\n",
            "Initial state (settings=None): {'settings': None, 'status': 'initial', 'log': ['start_none']}\n",
            "---Updating Settings Node---\n",
            "---Adding More Settings Node---\n",
            "Final state (settings=None): {'settings': {'theme': 'dark', 'language': 'fr', 'notifications': 'off'}, 'status': 'settings_updated', 'log': ['start_none', 'settings updated', 'more settings added']}\n"
          ]
        }
      ]
    },
    {
      "cell_type": "markdown",
      "source": [
        "# Example with add_messages:"
      ],
      "metadata": {
        "id": "AYKdWlaTN_Zz"
      },
      "id": "AYKdWlaTN_Zz"
    },
    {
      "cell_type": "code",
      "metadata": {
        "colab": {
          "base_uri": "https://localhost:8080/",
          "height": 358
        },
        "id": "1ea88719",
        "outputId": "ff25e55d-6937-41f1-94b0-d81a8658d42e"
      },
      "source": [
        "from langgraph.graph import StateGraph, START, END, MessagesState\n",
        "from langchain_core.messages import HumanMessage, AIMessage\n",
        "from IPython.display import Image, display # Import Image and display\n",
        "\n",
        "# 1. Define a node function that takes MessagesState as input and returns new messages\n",
        "def assistant_node(state: MessagesState) -> MessagesState:\n",
        "    print(\"---Assistant Node---\")\n",
        "    # The node returns a dictionary with the 'messages' key containing a list of new messages\n",
        "    # The add_messages reducer will append these to the existing messages list in the state\n",
        "    return {\"messages\": [AIMessage(content=\"How can I help you today?\")]}\n",
        "\n",
        "# 3. Build a StateGraph using MessagesState as the state definition\n",
        "builder = StateGraph(MessagesState)\n",
        "\n",
        "# 4. Add the defined node to the graph\n",
        "builder.add_node(\"assistant\", assistant_node)\n",
        "\n",
        "# 5. Add an edge from START to the node and from the node to END\n",
        "builder.add_edge(START, \"assistant\")\n",
        "builder.add_edge(\"assistant\", END)\n",
        "\n",
        "# 6. Compile the graph\n",
        "graph = builder.compile()\n",
        "\n",
        "# Display the graph\n",
        "print(\"\\nGraph for add_messages:\")\n",
        "display(Image(graph.get_graph().draw_mermaid_png()))\n",
        "\n",
        "\n",
        "# 7. Invoke the compiled graph with an initial state containing messages\n",
        "initial_messages = [HumanMessage(content=\"Hello!\")]\n",
        "print(f\"Initial messages: {initial_messages}\")\n",
        "\n",
        "result = graph.invoke({\"messages\": initial_messages})\n",
        "\n",
        "# 8. Print the output of the graph invocation\n",
        "print(f\"Final state: {result}\")"
      ],
      "id": "1ea88719",
      "execution_count": 49,
      "outputs": [
        {
          "output_type": "stream",
          "name": "stdout",
          "text": [
            "\n",
            "Graph for add_messages:\n"
          ]
        },
        {
          "output_type": "display_data",
          "data": {
            "image/png": "[encoded data removed]",
            "text/plain": [
              "<IPython.core.display.Image object>"
            ]
          },
          "metadata": {}
        },
        {
          "output_type": "stream",
          "name": "stdout",
          "text": [
            "Initial messages: [HumanMessage(content='Hello!', additional_kwargs={}, response_metadata={})]\n",
            "---Assistant Node---\n",
            "Final state: {'messages': [HumanMessage(content='Hello!', additional_kwargs={}, response_metadata={}, id='80c8e400-e848-430f-b3ea-74df7c363d2f'), AIMessage(content='How can I help you today?', additional_kwargs={}, response_metadata={}, id='9903ccc9-36f9-4b17-8e20-09abb2dd17da')]}\n"
          ]
        }
      ]
    },
    {
      "cell_type": "markdown",
      "metadata": {
        "id": "71213c0e"
      },
      "source": [
        "## Message overwriting with `add messages`\n",
        "\n"
      ],
      "id": "71213c0e"
    },
    {
      "cell_type": "code",
      "metadata": {
        "colab": {
          "base_uri": "https://localhost:8080/",
          "height": 410
        },
        "id": "8114cc48",
        "outputId": "fbff6165-a1c3-4a6d-8637-004cb2dd0dd2"
      },
      "source": [
        "# 1. Import necessary classes: add_messages, AIMessage, HumanMessage.\n",
        "from langgraph.graph.message import add_messages\n",
        "from langchain_core.messages import AIMessage, HumanMessage\n",
        "from langgraph.graph import StateGraph, START, END, MessagesState\n",
        "from IPython.display import Image, display # Import Image and display\n",
        "\n",
        "# 2. Create an initial list of messages with unique IDs and some content.\n",
        "initial_messages_overwrite = [\n",
        "    HumanMessage(content=\"Initial query about topic A.\", name=\"User1\", id=\"msg_1\"),\n",
        "    AIMessage(content=\"Response to topic A.\", name=\"AI1\", id=\"msg_2\"),\n",
        "    HumanMessage(content=\"Initial query about topic B.\", name=\"User2\", id=\"msg_3\"),\n",
        "]\n",
        "print(f\"Initial messages: {initial_messages_overwrite}\")\n",
        "\n",
        "# 3. Create a new list of messages containing at least one message with an ID that matches an ID in the initial list, but with different content or attributes. Include at least one message with a new, unique ID.\n",
        "new_messages_overwrite = [\n",
        "    # This message has the same ID as the second message in initial_messages_overwrite\n",
        "    AIMessage(content=\"Updated response to topic A.\", name=\"AI1\", id=\"msg_2\"),\n",
        "    # This message has a new, unique ID and should be appended.\n",
        "    HumanMessage(content=\"Follow-up question about topic C.\", name=\"User3\", id=\"msg_4\"),\n",
        "]\n",
        "print(f\"New messages to add: {new_messages_overwrite}\")\n",
        "\n",
        "# 4. Call the add_messages function with the initial message list as the first argument and the new message list as the second argument.\n",
        "combined_messages_overwrite = add_messages(initial_messages_overwrite, new_messages_overwrite)\n",
        "\n",
        "# 5. Print the resulting message list to demonstrate that the message with the matching ID was overwritten and the message with the new ID was appended.\n",
        "print(f\"Combined messages after add_messages (demonstrating overwrite): {combined_messages_overwrite}\")\n",
        "\n",
        "# Add a simple graph to demonstrate message overwriting within a graph context\n",
        "def overwrite_node(state: MessagesState) -> MessagesState:\n",
        "    print(\"---Overwrite Node---\")\n",
        "    # Return a message with an existing ID to demonstrate overwriting\n",
        "    return {\"messages\": [AIMessage(content=\"This message overwrites the initial AI message.\", id=\"msg_2\")]}\n",
        "\n",
        "builder = StateGraph(MessagesState)\n",
        "builder.add_node(\"overwrite\", overwrite_node)\n",
        "builder.add_edge(START, \"overwrite\")\n",
        "builder.add_edge(\"overwrite\", END)\n",
        "\n",
        "graph_overwrite = builder.compile()\n",
        "\n",
        "# Display the graph\n",
        "print(\"\\nGraph for Message Overwriting:\")\n",
        "display(Image(graph_overwrite.get_graph().draw_mermaid_png()))\n",
        "\n",
        "# Invoke the graph with the initial messages\n",
        "print(\"Invoking graph to demonstrate overwrite:\")\n",
        "result_overwrite_graph = graph_overwrite.invoke({\"messages\": initial_messages_overwrite})\n",
        "print(f\"Final state after graph invocation: {result_overwrite_graph}\")"
      ],
      "id": "8114cc48",
      "execution_count": 45,
      "outputs": [
        {
          "output_type": "stream",
          "name": "stdout",
          "text": [
            "Initial messages: [HumanMessage(content='Initial query about topic A.', additional_kwargs={}, response_metadata={}, name='User1', id='msg_1'), AIMessage(content='Response to topic A.', additional_kwargs={}, response_metadata={}, name='AI1', id='msg_2'), HumanMessage(content='Initial query about topic B.', additional_kwargs={}, response_metadata={}, name='User2', id='msg_3')]\n",
            "New messages to add: [AIMessage(content='Updated response to topic A.', additional_kwargs={}, response_metadata={}, name='AI1', id='msg_2'), HumanMessage(content='Follow-up question about topic C.', additional_kwargs={}, response_metadata={}, name='User3', id='msg_4')]\n",
            "Combined messages after add_messages (demonstrating overwrite): [HumanMessage(content='Initial query about topic A.', additional_kwargs={}, response_metadata={}, name='User1', id='msg_1'), AIMessage(content='Updated response to topic A.', additional_kwargs={}, response_metadata={}, name='AI1', id='msg_2'), HumanMessage(content='Initial query about topic B.', additional_kwargs={}, response_metadata={}, name='User2', id='msg_3'), HumanMessage(content='Follow-up question about topic C.', additional_kwargs={}, response_metadata={}, name='User3', id='msg_4')]\n",
            "\n",
            "Graph for Message Overwriting:\n"
          ]
        },
        {
          "output_type": "display_data",
          "data": {
            "image/png": "[encoded data removed]",
            "text/plain": [
              "<IPython.core.display.Image object>"
            ]
          },
          "metadata": {}
        },
        {
          "output_type": "stream",
          "name": "stdout",
          "text": [
            "Invoking graph to demonstrate overwrite:\n",
            "---Overwrite Node---\n",
            "Final state after graph invocation: {'messages': [HumanMessage(content='Initial query about topic A.', additional_kwargs={}, response_metadata={}, name='User1', id='msg_1'), AIMessage(content='This message overwrites the initial AI message.', additional_kwargs={}, response_metadata={}, id='msg_2'), HumanMessage(content='Initial query about topic B.', additional_kwargs={}, response_metadata={}, name='User2', id='msg_3')]}\n"
          ]
        }
      ]
    },
    {
      "cell_type": "markdown",
      "metadata": {
        "id": "e2392358"
      },
      "source": [
        "## Example for message removal:\n",
        "\n"
      ],
      "id": "e2392358"
    },
    {
      "cell_type": "code",
      "metadata": {
        "colab": {
          "base_uri": "https://localhost:8080/",
          "height": 410
        },
        "id": "4e08cda8",
        "outputId": "891fa305-82a8-4b99-b7c5-2a9efb12bec0"
      },
      "source": [
        "# 1. Import necessary classes: add_messages, AIMessage, HumanMessage, and RemoveMessage.\n",
        "from langgraph.graph.message import add_messages\n",
        "from langchain_core.messages import AIMessage, HumanMessage, RemoveMessage\n",
        "from langgraph.graph import StateGraph, START, END, MessagesState # Import StateGraph and MessagesState\n",
        "from IPython.display import Image, display # Import Image and display\n",
        "\n",
        "\n",
        "# 2. Create an initial list of messages with unique IDs and some content.\n",
        "initial_messages_remove = [\n",
        "    HumanMessage(content=\"First message.\", name=\"UserA\", id=\"msg_a\"),\n",
        "    AIMessage(content=\"Second message.\", name=\"BotB\", id=\"msg_b\"),\n",
        "    HumanMessage(content=\"Third message.\", name=\"UserC\", id=\"msg_c\"),\n",
        "    AIMessage(content=\"Fourth message.\", name=\"BotD\", id=\"msg_d\"),\n",
        "]\n",
        "print(f\"Initial messages: {initial_messages_remove}\")\n",
        "\n",
        "# 3. Create a new list containing RemoveMessage instances for some of the IDs in the initial list.\n",
        "# Let's remove the first and third messages (ids \"msg_a\" and \"msg_c\").\n",
        "messages_to_remove = [\n",
        "    RemoveMessage(id=\"msg_a\"),\n",
        "    RemoveMessage(id=\"msg_c\"),\n",
        "]\n",
        "print(f\"Messages to remove: {messages_to_remove}\")\n",
        "\n",
        "# 4. Call the add_messages function with the initial message list as the first argument and the list of RemoveMessage instances as the second argument.\n",
        "remaining_messages = add_messages(initial_messages_remove, messages_to_remove)\n",
        "\n",
        "# 5. Print the resulting message list to demonstrate that the messages with the specified IDs were removed.\n",
        "print(f\"Remaining messages after removal: {remaining_messages}\")\n",
        "\n",
        "\n",
        "# Add a simple graph to demonstrate message removal within a graph context\n",
        "def remove_messages_node(state: MessagesState) -> MessagesState:\n",
        "    print(\"---Remove Messages Node---\")\n",
        "    # Return a list of RemoveMessage instances to remove messages from the state\n",
        "    return {\"messages\": [RemoveMessage(id=\"msg_b\")]} # Remove the second message by ID\n",
        "\n",
        "builder = StateGraph(MessagesState)\n",
        "builder.add_node(\"remove\", remove_messages_node)\n",
        "builder.add_edge(START, \"remove\")\n",
        "builder.add_edge(\"remove\", END)\n",
        "\n",
        "graph_remove = builder.compile()\n",
        "\n",
        "# Display the graph\n",
        "print(\"\\nGraph for Message Removal:\")\n",
        "display(Image(graph_remove.get_graph().draw_mermaid_png()))\n",
        "\n",
        "# Invoke the graph with the initial messages (before manual removal)\n",
        "print(\"Invoking graph to demonstrate message removal:\")\n",
        "result_remove_graph = graph_remove.invoke({\"messages\": initial_messages_remove})\n",
        "print(f\"Final state after graph invocation: {result_remove_graph}\")"
      ],
      "id": "4e08cda8",
      "execution_count": 50,
      "outputs": [
        {
          "output_type": "stream",
          "name": "stdout",
          "text": [
            "Initial messages: [HumanMessage(content='First message.', additional_kwargs={}, response_metadata={}, name='UserA', id='msg_a'), AIMessage(content='Second message.', additional_kwargs={}, response_metadata={}, name='BotB', id='msg_b'), HumanMessage(content='Third message.', additional_kwargs={}, response_metadata={}, name='UserC', id='msg_c'), AIMessage(content='Fourth message.', additional_kwargs={}, response_metadata={}, name='BotD', id='msg_d')]\n",
            "Messages to remove: [RemoveMessage(content='', additional_kwargs={}, response_metadata={}, id='msg_a'), RemoveMessage(content='', additional_kwargs={}, response_metadata={}, id='msg_c')]\n",
            "Remaining messages after removal: [AIMessage(content='Second message.', additional_kwargs={}, response_metadata={}, name='BotB', id='msg_b'), AIMessage(content='Fourth message.', additional_kwargs={}, response_metadata={}, name='BotD', id='msg_d')]\n",
            "\n",
            "Graph for Message Removal:\n"
          ]
        },
        {
          "output_type": "display_data",
          "data": {
            "image/png": "[encoded data removed]",
            "text/plain": [
              "<IPython.core.display.Image object>"
            ]
          },
          "metadata": {}
        },
        {
          "output_type": "stream",
          "name": "stdout",
          "text": [
            "Invoking graph to demonstrate message removal:\n",
            "---Remove Messages Node---\n",
            "Final state after graph invocation: {'messages': [HumanMessage(content='First message.', additional_kwargs={}, response_metadata={}, name='UserA', id='msg_a'), HumanMessage(content='Third message.', additional_kwargs={}, response_metadata={}, name='UserC', id='msg_c'), AIMessage(content='Fourth message.', additional_kwargs={}, response_metadata={}, name='BotD', id='msg_d')]}\n"
          ]
        }
      ]
    }
  ],
  "metadata": {
    "kernelspec": {
      "display_name": "Python 3 (ipykernel)",
      "language": "python",
      "name": "python3"
    },
    "language_info": {
      "codemirror_mode": {
        "name": "ipython",
        "version": 3
      },
      "file_extension": ".py",
      "mimetype": "text/x-python",
      "name": "python",
      "nbconvert_exporter": "python",
      "pygments_lexer": "ipython3",
      "version": "3.12.1"
    },
    "colab": {
      "provenance": []
    }
  },
  "nbformat": 4,
  "nbformat_minor": 5
}