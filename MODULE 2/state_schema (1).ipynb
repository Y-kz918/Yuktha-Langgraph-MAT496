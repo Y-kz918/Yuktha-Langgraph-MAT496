{
  "cells": [
    {
      "cell_type": "markdown",
      "id": "256d3948",
      "metadata": {
        "id": "256d3948"
      },
      "source": [
        "[![Open in Colab](https://colab.research.google.com/assets/colab-badge.svg)](https://colab.research.google.com/github/langchain-ai/langchain-academy/blob/main/module-2/state-schema.ipynb) [![Open in LangChain Academy](https://cdn.prod.website-files.com/65b8cd72835ceeacd4449a53/66e9eba12c7b7688aa3dbb5e_LCA-badge-green.svg)](https://academy.langchain.com/courses/take/intro-to-langgraph/lessons/58239426-lesson-1-state-schema)"
      ]
    },
    {
      "cell_type": "markdown",
      "id": "f118fabe-37b7-4cd4-b7a4-9b0fc3875ca3",
      "metadata": {
        "id": "f118fabe-37b7-4cd4-b7a4-9b0fc3875ca3"
      },
      "source": [
        "# State Schema\n",
        "\n",
        "## Review\n",
        "\n",
        "In module 1, we laid the foundations! We built up to an agent that can:\n",
        "\n",
        "* `act` - let the model call specific tools\n",
        "* `observe` - pass the tool output back to the model\n",
        "* `reason` - let the model reason about the tool output to decide what to do next (e.g., call another tool or just respond directly)\n",
        "* `persist state` - use an in memory checkpointer to support long-running conversations with interruptions\n",
        "\n",
        "And, we showed how to serve it locally in LangGraph Studio or deploy it with LangGraph Cloud.\n",
        "\n",
        "## Goals\n",
        "\n",
        "In this module, we're going to build a deeper understanding of both state and memory.\n",
        "\n",
        "First, let's review a few different ways to define your state schema."
      ]
    },
    {
      "cell_type": "code",
      "execution_count": 39,
      "id": "b9a896f4-8509-456a-9a25-46532342f459",
      "metadata": {
        "id": "b9a896f4-8509-456a-9a25-46532342f459"
      },
      "outputs": [],
      "source": [
        "%%capture --no-stderr\n",
        "%pip install --quiet -U langgraph"
      ]
    },
    {
      "cell_type": "markdown",
      "id": "9f7927b0-9909-4e54-b997-ac49c1aeaa09",
      "metadata": {
        "id": "9f7927b0-9909-4e54-b997-ac49c1aeaa09"
      },
      "source": [
        "## Schema\n",
        "\n",
        "When we define a LangGraph `StateGraph`, we use a [state schema](https://langchain-ai.github.io/langgraph/concepts/low_level/#state).\n",
        "\n",
        "The state schema represents the structure and types of data that our graph will use.\n",
        "\n",
        "All nodes are expected to communicate with that schema.\n",
        "\n",
        "LangGraph offers flexibility in how you define your state schema, accommodating various Python [types](https://docs.python.org/3/library/stdtypes.html#type-objects) and validation approaches!\n",
        "\n",
        "## TypedDict\n",
        "\n",
        "As we mentioned in Module 1, we can use the `TypedDict` class from python's `typing` module.\n",
        "\n",
        "It allows you to specify keys and their corresponding value types.\n",
        "\n",
        "But, note that these are type hints.\n",
        "\n",
        "They can be used by static type checkers (like [mypy](https://github.com/python/mypy)) or IDEs to catch potential type-related errors before the code is run.\n",
        "\n",
        "But they are not enforced at runtime!"
      ]
    },
    {
      "cell_type": "code",
      "execution_count": 40,
      "id": "eedb39f0-af0f-4794-bc16-65980d278b59",
      "metadata": {
        "id": "eedb39f0-af0f-4794-bc16-65980d278b59"
      },
      "outputs": [],
      "source": [
        "from typing_extensions import TypedDict\n",
        "\n",
        "class TypedDictState(TypedDict):\n",
        "    foo: str\n",
        "    bar: str"
      ]
    },
    {
      "cell_type": "markdown",
      "id": "d5a71661-1086-455f-a5e0-a6d104034a95",
      "metadata": {
        "id": "d5a71661-1086-455f-a5e0-a6d104034a95"
      },
      "source": [
        "For more specific value constraints, you can use things like the `Literal` type hint.\n",
        "\n",
        "Here, `mood` can only be either \"happy\" or \"sad\"."
      ]
    },
    {
      "cell_type": "code",
      "execution_count": 41,
      "id": "4ad9749c-b127-433f-baa3-189a9349e9f6",
      "metadata": {
        "id": "4ad9749c-b127-433f-baa3-189a9349e9f6"
      },
      "outputs": [],
      "source": [
        "from typing import Literal\n",
        "\n",
        "class TypedDictState(TypedDict):\n",
        "    name: str\n",
        "    mood: Literal[\"happy\",\"sad\"]"
      ]
    },
    {
      "cell_type": "markdown",
      "id": "c1a9152d-1728-4a67-9e23-1ef622525047",
      "metadata": {
        "id": "c1a9152d-1728-4a67-9e23-1ef622525047"
      },
      "source": [
        "We can use our defined state class (e.g., here `TypedDictState`) in LangGraph by simply passing it to `StateGraph`.\n",
        "\n",
        "And, we can think about each state key as just a \"channel\" in our graph.\n",
        "\n",
        "As discussed in Module 1, we overwrite the value of a specified key or \"channel\" in each node."
      ]
    },
    {
      "cell_type": "code",
      "execution_count": 42,
      "id": "2f7a0d6d-f70b-44ed-86e3-7cdb39873ba4",
      "metadata": {
        "colab": {
          "base_uri": "https://localhost:8080/",
          "height": 350
        },
        "id": "2f7a0d6d-f70b-44ed-86e3-7cdb39873ba4",
        "outputId": "f168e632-c91a-4c6f-f4a9-05395e16b462"
      },
      "outputs": [
        {
          "output_type": "display_data",
          "data": {
            "image/png": "[encoded data removed]",
            "text/plain": [
              "<IPython.core.display.Image object>"
            ]
          },
          "metadata": {}
        }
      ],
      "source": [
        "import random\n",
        "from IPython.display import Image, display\n",
        "from langgraph.graph import StateGraph, START, END\n",
        "\n",
        "def node_1(state):\n",
        "    print(\"---Node 1---\")\n",
        "    return {\"name\": state['name'] + \" is ... \"}\n",
        "\n",
        "def node_2(state):\n",
        "    print(\"---Node 2---\")\n",
        "    return {\"mood\": \"happy\"}\n",
        "\n",
        "def node_3(state):\n",
        "    print(\"---Node 3---\")\n",
        "    return {\"mood\": \"sad\"}\n",
        "\n",
        "def decide_mood(state) -> Literal[\"node_2\", \"node_3\"]:\n",
        "\n",
        "    # Here, let's just do a 50 / 50 split between nodes 2, 3\n",
        "    if random.random() < 0.5:\n",
        "\n",
        "        # 50% of the time, we return Node 2\n",
        "        return \"node_2\"\n",
        "\n",
        "    # 50% of the time, we return Node 3\n",
        "    return \"node_3\"\n",
        "\n",
        "# Build graph\n",
        "builder = StateGraph(TypedDictState)\n",
        "builder.add_node(\"node_1\", node_1)\n",
        "builder.add_node(\"node_2\", node_2)\n",
        "builder.add_node(\"node_3\", node_3)\n",
        "\n",
        "# Logic\n",
        "builder.add_edge(START, \"node_1\")\n",
        "builder.add_conditional_edges(\"node_1\", decide_mood)\n",
        "builder.add_edge(\"node_2\", END)\n",
        "builder.add_edge(\"node_3\", END)\n",
        "\n",
        "# Add\n",
        "graph = builder.compile()\n",
        "\n",
        "# View\n",
        "display(Image(graph.get_graph().draw_mermaid_png()))"
      ]
    },
    {
      "cell_type": "markdown",
      "id": "724bb640-2b0e-46c1-9416-b5bcdb9c17c8",
      "metadata": {
        "id": "724bb640-2b0e-46c1-9416-b5bcdb9c17c8"
      },
      "source": [
        "Because our state is a dict, we simply invoke the graph with a dict to set an initial value of the `name` key in our state."
      ]
    },
    {
      "cell_type": "code",
      "execution_count": 43,
      "id": "74e09d32-6a08-4250-b19a-1f701828829d",
      "metadata": {
        "colab": {
          "base_uri": "https://localhost:8080/"
        },
        "id": "74e09d32-6a08-4250-b19a-1f701828829d",
        "outputId": "304c290d-f58d-4200-8471-1fff4b622fac"
      },
      "outputs": [
        {
          "output_type": "stream",
          "name": "stdout",
          "text": [
            "---Node 1---\n",
            "---Node 3---\n"
          ]
        },
        {
          "output_type": "execute_result",
          "data": {
            "text/plain": [
              "{'name': 'Lance is ... ', 'mood': 'sad'}"
            ]
          },
          "metadata": {},
          "execution_count": 43
        }
      ],
      "source": [
        "graph.invoke({\"name\":\"Lance\"})"
      ]
    },
    {
      "cell_type": "markdown",
      "id": "70cc5368-18b8-49c7-b561-41888b092311",
      "metadata": {
        "id": "70cc5368-18b8-49c7-b561-41888b092311"
      },
      "source": [
        "## Dataclass\n",
        "\n",
        "Python's [dataclasses](https://docs.python.org/3/library/dataclasses.html) provide [another way to define structured data](https://www.datacamp.com/tutorial/python-data-classes).\n",
        "\n",
        "Dataclasses offer a concise syntax for creating classes that are primarily used to store data."
      ]
    },
    {
      "cell_type": "code",
      "execution_count": 44,
      "id": "d576fc2c-350b-42ad-89e5-f93ae102dbf8",
      "metadata": {
        "id": "d576fc2c-350b-42ad-89e5-f93ae102dbf8"
      },
      "outputs": [],
      "source": [
        "from dataclasses import dataclass\n",
        "\n",
        "@dataclass\n",
        "class DataclassState:\n",
        "    name: str\n",
        "    mood: Literal[\"happy\",\"sad\"]"
      ]
    },
    {
      "cell_type": "markdown",
      "id": "64482b93-3c8f-4a30-925f-9be64e4b8b6f",
      "metadata": {
        "id": "64482b93-3c8f-4a30-925f-9be64e4b8b6f"
      },
      "source": [
        "To access the keys of a `dataclass`, we just need to modify the subscripting used in `node_1`:\n",
        "\n",
        "* We use `state.name` for the `dataclass` state rather than `state[\"name\"]` for the `TypedDict` above\n",
        "\n",
        "You'll notice something a bit odd: in each node, we still return a dictionary to perform the state updates.\n",
        "\n",
        "This is possible because LangGraph stores each key of your state object separately.\n",
        "\n",
        "The object returned by the node only needs to have keys (attributes) that match those in the state!\n",
        "\n",
        "In this case, the `dataclass` has key `name` so we can update it by passing a dict from our node, just as we did when state was a `TypedDict`."
      ]
    },
    {
      "cell_type": "code",
      "execution_count": 45,
      "id": "1e1eda69-916f-4f6e-b400-6e65f73d8716",
      "metadata": {
        "colab": {
          "base_uri": "https://localhost:8080/",
          "height": 350
        },
        "id": "1e1eda69-916f-4f6e-b400-6e65f73d8716",
        "outputId": "b5e591cb-efcc-46ac-a8ac-851378e1e414"
      },
      "outputs": [
        {
          "output_type": "display_data",
          "data": {
            "image/png": "[encoded data removed]",
            "text/plain": [
              "<IPython.core.display.Image object>"
            ]
          },
          "metadata": {}
        }
      ],
      "source": [
        "def node_1(state):\n",
        "    print(\"---Node 1---\")\n",
        "    return {\"name\": state.name + \" is ... \"}\n",
        "\n",
        "# Build graph\n",
        "builder = StateGraph(DataclassState)\n",
        "builder.add_node(\"node_1\", node_1)\n",
        "builder.add_node(\"node_2\", node_2)\n",
        "builder.add_node(\"node_3\", node_3)\n",
        "\n",
        "# Logic\n",
        "builder.add_edge(START, \"node_1\")\n",
        "builder.add_conditional_edges(\"node_1\", decide_mood)\n",
        "builder.add_edge(\"node_2\", END)\n",
        "builder.add_edge(\"node_3\", END)\n",
        "\n",
        "# Add\n",
        "graph = builder.compile()\n",
        "\n",
        "# View\n",
        "display(Image(graph.get_graph().draw_mermaid_png()))"
      ]
    },
    {
      "cell_type": "markdown",
      "id": "06beb50a-4878-4d7e-ac6c-d60a0f417eb3",
      "metadata": {
        "id": "06beb50a-4878-4d7e-ac6c-d60a0f417eb3"
      },
      "source": [
        "We invoke with a `dataclass` to set the initial values of each key / channel in our state!"
      ]
    },
    {
      "cell_type": "code",
      "execution_count": 46,
      "id": "8c042325-e93d-43e1-9ac7-a0e20c2fb08d",
      "metadata": {
        "colab": {
          "base_uri": "https://localhost:8080/"
        },
        "id": "8c042325-e93d-43e1-9ac7-a0e20c2fb08d",
        "outputId": "75edb2c9-17d3-44d2-adee-b73af8149782"
      },
      "outputs": [
        {
          "output_type": "stream",
          "name": "stdout",
          "text": [
            "---Node 1---\n",
            "---Node 2---\n"
          ]
        },
        {
          "output_type": "execute_result",
          "data": {
            "text/plain": [
              "{'name': 'Lance is ... ', 'mood': 'happy'}"
            ]
          },
          "metadata": {},
          "execution_count": 46
        }
      ],
      "source": [
        "graph.invoke(DataclassState(name=\"Lance\",mood=\"sad\"))"
      ]
    },
    {
      "cell_type": "markdown",
      "id": "2405e49b-e786-4bf9-ac85-1fb941d01bcd",
      "metadata": {
        "id": "2405e49b-e786-4bf9-ac85-1fb941d01bcd"
      },
      "source": [
        "## Pydantic\n",
        "\n",
        "As mentioned, `TypedDict` and `dataclasses` provide type hints but they don't enforce types at runtime.\n",
        "\n",
        "This means you could potentially assign invalid values without raising an error!\n",
        "\n",
        "For example, we can set `mood` to `mad` even though our type hint specifies `mood: list[Literal[\"happy\",\"sad\"]]`."
      ]
    },
    {
      "cell_type": "code",
      "execution_count": 47,
      "id": "522fcc76-abf7-452a-9d7b-000e06942d94",
      "metadata": {
        "id": "522fcc76-abf7-452a-9d7b-000e06942d94"
      },
      "outputs": [],
      "source": [
        "dataclass_instance = DataclassState(name=\"Lance\", mood=\"mad\")"
      ]
    },
    {
      "cell_type": "markdown",
      "id": "4f095c3a-96b5-4318-9303-20424b4455e9",
      "metadata": {
        "id": "4f095c3a-96b5-4318-9303-20424b4455e9"
      },
      "source": [
        "[Pydantic](https://docs.pydantic.dev/latest/api/base_model/) is a data validation and settings management library using Python type annotations.\n",
        "\n",
        "It's particularly well-suited [for defining state schemas in LangGraph](https://langchain-ai.github.io/langgraph/how-tos/state-model/) due to its validation capabilities.\n",
        "\n",
        "Pydantic can perform validation to check whether data conforms to the specified types and constraints at runtime."
      ]
    },
    {
      "cell_type": "code",
      "execution_count": 48,
      "id": "62e8720e-217f-4b98-837a-af45c3fa577f",
      "metadata": {
        "colab": {
          "base_uri": "https://localhost:8080/"
        },
        "id": "62e8720e-217f-4b98-837a-af45c3fa577f",
        "outputId": "0680d7d7-ffd0-43a0-c1fd-e520e1e1552e"
      },
      "outputs": [
        {
          "output_type": "stream",
          "name": "stdout",
          "text": [
            "Validation Error: 1 validation error for PydanticState\n",
            "mood\n",
            "  Value error, Each mood must be either 'happy' or 'sad' [type=value_error, input_value='mad', input_type=str]\n",
            "    For further information visit https://errors.pydantic.dev/2.11/v/value_error\n"
          ]
        }
      ],
      "source": [
        "from pydantic import BaseModel, field_validator, ValidationError\n",
        "\n",
        "class PydanticState(BaseModel):\n",
        "    name: str\n",
        "    mood: str # \"happy\" or \"sad\"\n",
        "\n",
        "    @field_validator('mood')\n",
        "    @classmethod\n",
        "    def validate_mood(cls, value):\n",
        "        # Ensure the mood is either \"happy\" or \"sad\"\n",
        "        if value not in [\"happy\", \"sad\"]:\n",
        "            raise ValueError(\"Each mood must be either 'happy' or 'sad'\")\n",
        "        return value\n",
        "\n",
        "try:\n",
        "    state = PydanticState(name=\"John Doe\", mood=\"mad\")\n",
        "except ValidationError as e:\n",
        "    print(\"Validation Error:\", e)"
      ]
    },
    {
      "cell_type": "markdown",
      "id": "f29913ca-0295-48eb-af4e-cae515dd9a9c",
      "metadata": {
        "id": "f29913ca-0295-48eb-af4e-cae515dd9a9c"
      },
      "source": [
        "We can use `PydanticState` in our graph seamlessly."
      ]
    },
    {
      "cell_type": "code",
      "execution_count": 49,
      "id": "91db3393-b7f8-46e5-8129-0e7539b2804c",
      "metadata": {
        "colab": {
          "base_uri": "https://localhost:8080/",
          "height": 350
        },
        "id": "91db3393-b7f8-46e5-8129-0e7539b2804c",
        "outputId": "30bcfadd-bac2-4e93-8db0-5677c7595592"
      },
      "outputs": [
        {
          "output_type": "display_data",
          "data": {
            "image/png": "[encoded data removed]",
            "text/plain": [
              "<IPython.core.display.Image object>"
            ]
          },
          "metadata": {}
        }
      ],
      "source": [
        "# Build graph\n",
        "builder = StateGraph(PydanticState)\n",
        "builder.add_node(\"node_1\", node_1)\n",
        "builder.add_node(\"node_2\", node_2)\n",
        "builder.add_node(\"node_3\", node_3)\n",
        "\n",
        "# Logic\n",
        "builder.add_edge(START, \"node_1\")\n",
        "builder.add_conditional_edges(\"node_1\", decide_mood)\n",
        "builder.add_edge(\"node_2\", END)\n",
        "builder.add_edge(\"node_3\", END)\n",
        "\n",
        "# Add\n",
        "graph = builder.compile()\n",
        "\n",
        "# View\n",
        "display(Image(graph.get_graph().draw_mermaid_png()))"
      ]
    },
    {
      "cell_type": "code",
      "execution_count": 50,
      "id": "e96c78be-b483-4fa4-949b-62d4274e97ac",
      "metadata": {
        "colab": {
          "base_uri": "https://localhost:8080/"
        },
        "id": "e96c78be-b483-4fa4-949b-62d4274e97ac",
        "outputId": "c8e02403-31b6-44bf-9430-38e9b971e2fe"
      },
      "outputs": [
        {
          "output_type": "stream",
          "name": "stdout",
          "text": [
            "---Node 1---\n",
            "---Node 3---\n"
          ]
        },
        {
          "output_type": "execute_result",
          "data": {
            "text/plain": [
              "{'name': 'Lance is ... ', 'mood': 'sad'}"
            ]
          },
          "metadata": {},
          "execution_count": 50
        }
      ],
      "source": [
        "graph.invoke(PydanticState(name=\"Lance\",mood=\"sad\"))"
      ]
    },
    {
      "cell_type": "markdown",
      "source": [
        "# OWN EXAMPLES"
      ],
      "metadata": {
        "id": "O1C2zuUiRoV2"
      },
      "id": "O1C2zuUiRoV2"
    },
    {
      "cell_type": "markdown",
      "metadata": {
        "id": "d0dae033"
      },
      "source": [
        "## Simple Example: TypedDict with Weather Data\n",
        "\n",
        "This example uses `TypedDict` to define a state for weather information including location, temperature, and condition.\n",
        "\n",
        "1.  **Define the State:** Create a `TypedDict` to hold the weather data.\n",
        "2.  **Define a Node:** Create a function that takes the state and formats the weather information into a message.\n",
        "3.  **Build and Invoke the Graph:** Set up the `StateGraph` and run it with some initial weather data."
      ],
      "id": "d0dae033"
    },
    {
      "cell_type": "code",
      "metadata": {
        "colab": {
          "base_uri": "https://localhost:8080/"
        },
        "id": "c6759157",
        "outputId": "f895e85a-3612-4ac4-f775-9bbf8fe436ae"
      },
      "source": [
        "from typing_extensions import TypedDict\n",
        "from langgraph.graph import StateGraph, START, END\n",
        "from datetime import datetime\n",
        "\n",
        "# 1. Define the State\n",
        "class WeatherTypedDictState(TypedDict):\n",
        "    location: str\n",
        "    temperature_c: float\n",
        "    condition: str\n",
        "    fetched_at: str # Store as string for simplicity in this example\n",
        "    message: str\n",
        "\n",
        "# 2. Define a Node\n",
        "def format_weather_message(state: WeatherTypedDictState) -> dict:\n",
        "    print(\"---Formatting Weather Message Node (TypedDict)---\")\n",
        "    message = f\"{state['location']}: {state['condition']}, {state['temperature_c']}°C (at {state['fetched_at']})\"\n",
        "    return {\"message\": message}\n",
        "\n",
        "# 3. Build and Invoke the Graph\n",
        "builder_weather_typeddict = StateGraph(WeatherTypedDictState)\n",
        "builder_weather_typeddict.add_node(\"format_message\", format_weather_message)\n",
        "builder_weather_typeddict.add_edge(START, \"format_message\")\n",
        "builder_weather_typeddict.add_edge(\"format_message\", END)\n",
        "\n",
        "graph_weather_typeddict = builder_weather_typeddict.compile()\n",
        "\n",
        "initial_weather_typeddict_state = {\n",
        "    \"location\": \"London, UK\",\n",
        "    \"temperature_c\": 15.5,\n",
        "    \"condition\": \"Cloudy\",\n",
        "    \"fetched_at\": datetime.now().isoformat(),\n",
        "    \"message\": \"\" # Initial empty message\n",
        "}\n",
        "result_typeddict = graph_weather_typeddict.invoke(initial_weather_typeddict_state)\n",
        "\n",
        "print(\"\\nInitial State:\", initial_weather_typeddict_state)\n",
        "print(\"Final State:\", result_typeddict)"
      ],
      "id": "c6759157",
      "execution_count": 51,
      "outputs": [
        {
          "output_type": "stream",
          "name": "stdout",
          "text": [
            "---Formatting Weather Message Node (TypedDict)---\n",
            "\n",
            "Initial State: {'location': 'London, UK', 'temperature_c': 15.5, 'condition': 'Cloudy', 'fetched_at': '2025-10-17T13:06:06.260428', 'message': ''}\n",
            "Final State: {'location': 'London, UK', 'temperature_c': 15.5, 'condition': 'Cloudy', 'fetched_at': '2025-10-17T13:06:06.260428', 'message': 'London, UK: Cloudy, 15.5°C (at 2025-10-17T13:06:06.260428)'}\n"
          ]
        }
      ]
    },
    {
      "cell_type": "code",
      "metadata": {
        "colab": {
          "base_uri": "https://localhost:8080/",
          "height": 251
        },
        "id": "4fabe16a",
        "outputId": "63154a07-f282-4a62-ff2d-64811e2291c4"
      },
      "source": [
        "from IPython.display import Image, display\n",
        "display(Image(graph_weather_typeddict.get_graph().draw_mermaid_png()))"
      ],
      "id": "4fabe16a",
      "execution_count": 52,
      "outputs": [
        {
          "output_type": "display_data",
          "data": {
            "image/png": "[encoded data removed]",
            "text/plain": [
              "<IPython.core.display.Image object>"
            ]
          },
          "metadata": {}
        }
      ]
    },
    {
      "cell_type": "markdown",
      "metadata": {
        "id": "b6ac8920"
      },
      "source": [
        "## Simple Example: Dataclass with Weather Data\n",
        "\n",
        "This example uses a `dataclass` for the weather state, similar to the `TypedDict` example.\n",
        "\n",
        "1.  **Define the State:** Create a `dataclass` for the weather data.\n",
        "2.  **Define a Node:** Create a function that takes the dataclass state and returns a dictionary with the formatted message. Access fields using dot notation.\n",
        "3.  **Build and Invoke the Graph:** Set up the `StateGraph` and run it with an initial dataclass instance."
      ],
      "id": "b6ac8920"
    },
    {
      "cell_type": "code",
      "metadata": {
        "colab": {
          "base_uri": "https://localhost:8080/"
        },
        "id": "ceab6c98",
        "outputId": "ae1cad18-c67e-4d21-88aa-4438eb5694b4"
      },
      "source": [
        "from dataclasses import dataclass\n",
        "from langgraph.graph import StateGraph, START, END\n",
        "from datetime import datetime\n",
        "\n",
        "# 1. Define the State\n",
        "@dataclass\n",
        "class WeatherDataclassState:\n",
        "    location: str\n",
        "    temperature_c: float\n",
        "    condition: str\n",
        "    fetched_at: str\n",
        "    message: str = \"\" # Default value\n",
        "\n",
        "# 2. Define a Node\n",
        "def format_weather_message_dataclass(state: WeatherDataclassState) -> dict:\n",
        "    print(\"---Formatting Weather Message Node (Dataclass)---\")\n",
        "    message = f\"{state.location}: {state.condition}, {state.temperature_c}°C (at {state.fetched_at})\"\n",
        "    return {\"message\": message}\n",
        "\n",
        "# 3. Build and Invoke the Graph\n",
        "builder_weather_dataclass = StateGraph(WeatherDataclassState)\n",
        "builder_weather_dataclass.add_node(\"format_message\", format_weather_message_dataclass)\n",
        "builder_weather_dataclass.add_edge(START, \"format_message\")\n",
        "builder_weather_dataclass.add_edge(\"format_message\", END)\n",
        "\n",
        "graph_weather_dataclass = builder_weather_dataclass.compile()\n",
        "\n",
        "initial_weather_dataclass_state = WeatherDataclassState(\n",
        "    location=\"Paris, France\",\n",
        "    temperature_c=22.1,\n",
        "    condition=\"Sunny\",\n",
        "    fetched_at=datetime.now().isoformat()\n",
        ")\n",
        "result_dataclass = graph_weather_dataclass.invoke(initial_weather_dataclass_state)\n",
        "\n",
        "print(\"\\nInitial State:\", initial_weather_dataclass_state)\n",
        "print(\"Final State:\", result_dataclass)"
      ],
      "id": "ceab6c98",
      "execution_count": 53,
      "outputs": [
        {
          "output_type": "stream",
          "name": "stdout",
          "text": [
            "---Formatting Weather Message Node (Dataclass)---\n",
            "\n",
            "Initial State: WeatherDataclassState(location='Paris, France', temperature_c=22.1, condition='Sunny', fetched_at='2025-10-17T13:06:06.355096', message='')\n",
            "Final State: {'location': 'Paris, France', 'temperature_c': 22.1, 'condition': 'Sunny', 'fetched_at': '2025-10-17T13:06:06.355096', 'message': 'Paris, France: Sunny, 22.1°C (at 2025-10-17T13:06:06.355096)'}\n"
          ]
        }
      ]
    },
    {
      "cell_type": "code",
      "metadata": {
        "colab": {
          "base_uri": "https://localhost:8080/",
          "height": 251
        },
        "id": "841ee9ba",
        "outputId": "6a006ce2-4b4d-4b98-9abc-144854f9632a"
      },
      "source": [
        "from IPython.display import Image, display\n",
        "display(Image(graph_weather_dataclass.get_graph().draw_mermaid_png()))"
      ],
      "id": "841ee9ba",
      "execution_count": 54,
      "outputs": [
        {
          "output_type": "display_data",
          "data": {
            "image/png": "[encoded data removed]",
            "text/plain": [
              "<IPython.core.display.Image object>"
            ]
          },
          "metadata": {}
        }
      ]
    },
    {
      "cell_type": "markdown",
      "metadata": {
        "id": "7169e22f"
      },
      "source": [
        "## Simple Example: Pydantic with Weather Data\n",
        "\n",
        "This example uses `Pydantic` for the weather state, adding basic validation for the temperature.\n",
        "\n",
        "1.  **Define the State:** Create a `BaseModel` for the weather data, including a validator for the temperature.\n",
        "2.  **Define a Node:** Create a function that takes the Pydantic state and returns a dictionary with the formatted message. Access fields using dot notation.\n",
        "3.  **Build and Invoke the Graph:** Set up the `StateGraph` and run it with an initial Pydantic model instance. Include an example demonstrating validation error."
      ],
      "id": "7169e22f"
    },
    {
      "cell_type": "code",
      "metadata": {
        "colab": {
          "base_uri": "https://localhost:8080/"
        },
        "id": "01809d45",
        "outputId": "bd71a5cb-335f-4a23-b42c-a557ac60eae6"
      },
      "source": [
        "from pydantic import BaseModel, field_validator, ValidationError\n",
        "from langgraph.graph import StateGraph, START, END\n",
        "from datetime import datetime\n",
        "\n",
        "# 1. Define the State\n",
        "class WeatherPydanticState(BaseModel):\n",
        "    location: str\n",
        "    temperature_c: float\n",
        "    condition: str\n",
        "    fetched_at: str\n",
        "    message: str = \"\" # Default value\n",
        "\n",
        "    @field_validator('temperature_c')\n",
        "    @classmethod\n",
        "    def validate_temperature(cls, v):\n",
        "        if v < -100 or v > 100: # Simple range check for temperature\n",
        "            raise ValueError(\"Temperature seems unrealistic\")\n",
        "        return v\n",
        "\n",
        "# 2. Define a Node\n",
        "def format_weather_message_pydantic(state: WeatherPydanticState) -> dict:\n",
        "    print(\"---Formatting Weather Message Node (Pydantic)---\")\n",
        "    message = f\"{state.location}: {state.condition}, {state.temperature_c}°C (at {state.fetched_at})\"\n",
        "    return {\"message\": message}\n",
        "\n",
        "# 3. Build and Invoke the Graph\n",
        "builder_weather_pydantic = StateGraph(WeatherPydanticState)\n",
        "builder_weather_pydantic.add_node(\"format_message\", format_weather_message_pydantic)\n",
        "builder_weather_pydantic.add_edge(START, \"format_message\")\n",
        "builder_weather_pydantic.add_edge(\"format_message\", END)\n",
        "\n",
        "graph_weather_pydantic = builder_weather_pydantic.compile()\n",
        "\n",
        "initial_weather_pydantic_state = WeatherPydanticState(\n",
        "    location=\"Tokyo, Japan\",\n",
        "    temperature_c=25.0,\n",
        "    condition=\"Partly Cloudy\",\n",
        "    fetched_at=datetime.now().isoformat()\n",
        ")\n",
        "result_pydantic = graph_weather_pydantic.invoke(initial_weather_pydantic_state)\n",
        "\n",
        "print(\"\\nInitial State:\", initial_weather_pydantic_state)\n",
        "print(\"Final State:\", result_pydantic)\n",
        "\n",
        "# Example of Pydantic validation error\n",
        "try:\n",
        "    invalid_weather_state = WeatherPydanticState(\n",
        "        location=\"Mars\",\n",
        "        temperature_c=500.0, # Unrealistic temperature\n",
        "        condition=\"Clear\",\n",
        "        fetched_at=datetime.now().isoformat()\n",
        "    )\n",
        "except ValidationError as e:\n",
        "    print(\"\\nValidation Error for invalid temperature:\", e)"
      ],
      "id": "01809d45",
      "execution_count": 55,
      "outputs": [
        {
          "output_type": "stream",
          "name": "stdout",
          "text": [
            "---Formatting Weather Message Node (Pydantic)---\n",
            "\n",
            "Initial State: location='Tokyo, Japan' temperature_c=25.0 condition='Partly Cloudy' fetched_at='2025-10-17T13:06:06.461606' message=''\n",
            "Final State: {'location': 'Tokyo, Japan', 'temperature_c': 25.0, 'condition': 'Partly Cloudy', 'fetched_at': '2025-10-17T13:06:06.461606', 'message': 'Tokyo, Japan: Partly Cloudy, 25.0°C (at 2025-10-17T13:06:06.461606)'}\n",
            "\n",
            "Validation Error for invalid temperature: 1 validation error for WeatherPydanticState\n",
            "temperature_c\n",
            "  Value error, Temperature seems unrealistic [type=value_error, input_value=500.0, input_type=float]\n",
            "    For further information visit https://errors.pydantic.dev/2.11/v/value_error\n"
          ]
        }
      ]
    },
    {
      "cell_type": "code",
      "metadata": {
        "colab": {
          "base_uri": "https://localhost:8080/",
          "height": 251
        },
        "id": "a40dbd1a",
        "outputId": "a70ecbc3-4f0a-4d5f-e98a-99fd1821eb83"
      },
      "source": [
        "from IPython.display import Image, display\n",
        "display(Image(graph_weather_pydantic.get_graph().draw_mermaid_png()))"
      ],
      "id": "a40dbd1a",
      "execution_count": 56,
      "outputs": [
        {
          "output_type": "display_data",
          "data": {
            "image/png": "[encoded data removed]",
            "text/plain": [
              "<IPython.core.display.Image object>"
            ]
          },
          "metadata": {}
        }
      ]
    }
  ],
  "metadata": {
    "kernelspec": {
      "display_name": "Python 3 (ipykernel)",
      "language": "python",
      "name": "python3"
    },
    "language_info": {
      "codemirror_mode": {
        "name": "ipython",
        "version": 3
      },
      "file_extension": ".py",
      "mimetype": "text/x-python",
      "name": "python",
      "nbconvert_exporter": "python",
      "pygments_lexer": "ipython3",
      "version": "3.12.1"
    },
    "colab": {
      "provenance": []
    }
  },
  "nbformat": 4,
  "nbformat_minor": 5
}