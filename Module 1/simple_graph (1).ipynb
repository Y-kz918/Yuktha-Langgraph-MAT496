{
  "cells": [
    {
      "cell_type": "markdown",
      "id": "8d5f3703",
      "metadata": {
        "id": "8d5f3703"
      },
      "source": [
        "[![Open in Colab](https://colab.research.google.com/assets/colab-badge.svg)](https://colab.research.google.com/github/langchain-ai/langchain-academy/blob/main/module-1/simple-graph.ipynb) [![Open in LangChain Academy](https://cdn.prod.website-files.com/65b8cd72835ceeacd4449a53/66e9eba12c7b7688aa3dbb5e_LCA-badge-green.svg)](https://academy.langchain.com/courses/take/intro-to-langgraph/lessons/58238187-lesson-2-simple-graph)"
      ]
    },
    {
      "cell_type": "markdown",
      "id": "50fa7f8a-8764-4bb9-9968-48b681a0e4f1",
      "metadata": {
        "id": "50fa7f8a-8764-4bb9-9968-48b681a0e4f1"
      },
      "source": [
        "# The Simplest Graph\n",
        "\n",
        "Let's build a simple graph with 3 nodes and one conditional edge.\n",
        "\n",
        "![Screenshot 2024-08-20 at 3.11.22 PM.png](https://cdn.prod.website-files.com/65b8cd72835ceeacd4449a53/66dba5f465f6e9a2482ad935_simple-graph1.png)"
      ]
    },
    {
      "cell_type": "code",
      "execution_count": 1,
      "id": "ff151ef1-fa30-482a-94da-8f49964afbc3",
      "metadata": {
        "id": "ff151ef1-fa30-482a-94da-8f49964afbc3"
      },
      "outputs": [],
      "source": [
        "%%capture --no-stderr\n",
        "%pip install --quiet -U langgraph"
      ]
    },
    {
      "cell_type": "markdown",
      "id": "5999f8d0-989f-4638-8ade-5c257cbadfe8",
      "metadata": {
        "id": "5999f8d0-989f-4638-8ade-5c257cbadfe8"
      },
      "source": [
        "## State\n",
        "\n",
        "First, define the [State](https://langchain-ai.github.io/langgraph/concepts/low_level/#state) of the graph.\n",
        "\n",
        "The State schema serves as the input schema for all Nodes and Edges in the graph.\n",
        "\n",
        "Let's use the `TypedDict` class from python's `typing` module as our schema, which provides type hints for the keys."
      ]
    },
    {
      "cell_type": "code",
      "execution_count": 2,
      "id": "6a90709b-ddfa-4671-8acc-c59969a29991",
      "metadata": {
        "id": "6a90709b-ddfa-4671-8acc-c59969a29991"
      },
      "outputs": [],
      "source": [
        "from typing_extensions import TypedDict\n",
        "\n",
        "class State(TypedDict):\n",
        "    graph_state: str"
      ]
    },
    {
      "cell_type": "markdown",
      "id": "888509e1-cbde-4c03-99a0-2560dd2e262d",
      "metadata": {
        "id": "888509e1-cbde-4c03-99a0-2560dd2e262d"
      },
      "source": [
        "## Nodes\n",
        "\n",
        "[Nodes](https://langchain-ai.github.io/langgraph/concepts/low_level/#nodes) are just python functions.\n",
        "\n",
        "The first positional argument is the state, as defined above.\n",
        "\n",
        "Because the state is a `TypedDict` with schema as defined above, each node can access the key, `graph_state`, with `state['graph_state']`.\n",
        "\n",
        "Each node returns a new value of the state key `graph_state`.\n",
        "  \n",
        "By default, the new value returned by each node [will override](https://langchain-ai.github.io/langgraph/concepts/low_level/#reducers) the prior state value."
      ]
    },
    {
      "cell_type": "code",
      "execution_count": 3,
      "id": "e8aabcb7-494c-4d35-be08-f81c76d75a6b",
      "metadata": {
        "id": "e8aabcb7-494c-4d35-be08-f81c76d75a6b"
      },
      "outputs": [],
      "source": [
        "def node_1(state):\n",
        "    print(\"---Node 1---\")\n",
        "    return {\"graph_state\": state['graph_state'] +\" I am\"}\n",
        "\n",
        "def node_2(state):\n",
        "    print(\"---Node 2---\")\n",
        "    return {\"graph_state\": state['graph_state'] +\" happy!\"}\n",
        "\n",
        "def node_3(state):\n",
        "    print(\"---Node 3---\")\n",
        "    return {\"graph_state\": state['graph_state'] +\" sad!\"}"
      ]
    },
    {
      "cell_type": "markdown",
      "id": "ad056608-8c8f-4999-bb53-10583efa4ed8",
      "metadata": {
        "id": "ad056608-8c8f-4999-bb53-10583efa4ed8"
      },
      "source": [
        "## Edges\n",
        "\n",
        "[Edges](https://langchain-ai.github.io/langgraph/concepts/low_level/#edges) connect the nodes.\n",
        "\n",
        "Normal Edges are used if you want to *always* go from, for example, `node_1` to `node_2`.\n",
        "\n",
        "[Conditional Edges](https://langchain-ai.github.io/langgraph/concepts/low_level/#conditional-edges) are used if you want to *optionally* route between nodes.\n",
        "\n",
        "Conditional edges are implemented as functions that return the next node to visit based upon some logic."
      ]
    },
    {
      "cell_type": "code",
      "execution_count": 4,
      "id": "7e53543a-902a-4d41-ad3d-25eee260e819",
      "metadata": {
        "id": "7e53543a-902a-4d41-ad3d-25eee260e819"
      },
      "outputs": [],
      "source": [
        "import random\n",
        "from typing import Literal\n",
        "\n",
        "def decide_mood(state) -> Literal[\"node_2\", \"node_3\"]:\n",
        "\n",
        "    # Often, we will use state to decide on the next node to visit\n",
        "    user_input = state['graph_state']\n",
        "\n",
        "    # Here, let's just do a 50 / 50 split between nodes 2, 3\n",
        "    if random.random() < 0.5:\n",
        "\n",
        "        # 50% of the time, we return Node 2\n",
        "        return \"node_2\"\n",
        "\n",
        "    # 50% of the time, we return Node 3\n",
        "    return \"node_3\""
      ]
    },
    {
      "cell_type": "markdown",
      "id": "9282ea7a-5ed2-4641-bed8-c3472d54c951",
      "metadata": {
        "id": "9282ea7a-5ed2-4641-bed8-c3472d54c951"
      },
      "source": [
        "## Graph Construction\n",
        "\n",
        "Now, we build the graph from our [components](\n",
        "https://langchain-ai.github.io/langgraph/concepts/low_level/) defined above.\n",
        "\n",
        "The [StateGraph class](https://langchain-ai.github.io/langgraph/concepts/low_level/#stategraph) is the graph class that we can use.\n",
        "\n",
        "First, we initialize a StateGraph with the `State` class we defined above.\n",
        "\n",
        "Then, we add our nodes and edges.\n",
        "\n",
        "We use the [`START` Node, a special node](https://langchain-ai.github.io/langgraph/concepts/low_level/#start-node) that sends user input to the graph, to indicate where to start our graph.\n",
        "\n",
        "The [`END` Node](https://langchain-ai.github.io/langgraph/concepts/low_level/#end-node) is a special node that represents a terminal node.\n",
        "\n",
        "Finally, we [compile our graph](https://langchain-ai.github.io/langgraph/concepts/low_level/#compiling-your-graph) to perform a few basic checks on the graph structure.\n",
        "\n",
        "We can visualize the graph as a [Mermaid diagram](https://github.com/mermaid-js/mermaid)."
      ]
    },
    {
      "cell_type": "code",
      "execution_count": 5,
      "id": "7deb0359-55c1-4545-b52e-8252994befbb",
      "metadata": {
        "colab": {
          "base_uri": "https://localhost:8080/",
          "height": 350
        },
        "id": "7deb0359-55c1-4545-b52e-8252994befbb",
        "outputId": "741f00e7-9d9e-4553-fb16-e4049418fd91"
      },
      "outputs": [
        {
          "output_type": "display_data",
          "data": {
            "image/png": "[encoded data removed]",
            "text/plain": [
              "<IPython.core.display.Image object>"
            ]
          },
          "metadata": {}
        }
      ],
      "source": [
        "from IPython.display import Image, display\n",
        "from langgraph.graph import StateGraph, START, END\n",
        "\n",
        "# Build graph\n",
        "builder = StateGraph(State)\n",
        "builder.add_node(\"node_1\", node_1)\n",
        "builder.add_node(\"node_2\", node_2)\n",
        "builder.add_node(\"node_3\", node_3)\n",
        "\n",
        "# Logic\n",
        "builder.add_edge(START, \"node_1\")\n",
        "builder.add_conditional_edges(\"node_1\", decide_mood)\n",
        "builder.add_edge(\"node_2\", END)\n",
        "builder.add_edge(\"node_3\", END)\n",
        "\n",
        "# Add\n",
        "graph = builder.compile()\n",
        "\n",
        "# View\n",
        "display(Image(graph.get_graph().draw_mermaid_png()))"
      ]
    },
    {
      "cell_type": "markdown",
      "id": "00617c74-2647-44ea-8a2e-310dd96c0d26",
      "metadata": {
        "id": "00617c74-2647-44ea-8a2e-310dd96c0d26"
      },
      "source": [
        "## Graph Invocation\n",
        "\n",
        "The compiled graph implements the [runnable](https://python.langchain.com/docs/concepts/runnables/) protocol.\n",
        "\n",
        "This provides a standard way to execute LangChain components.\n",
        "\n",
        "`invoke` is one of the standard methods in this interface.\n",
        "\n",
        "The input is a dictionary `{\"graph_state\": \"Hi, this is lance.\"}`, which sets the initial value for our graph state dict.\n",
        "\n",
        "When `invoke` is called, the graph starts execution from the `START` node.\n",
        "\n",
        "It progresses through the defined nodes (`node_1`, `node_2`, `node_3`) in order.\n",
        "\n",
        "The conditional edge will traverse from node `1` to node `2` or `3` using a 50/50 decision rule.\n",
        "\n",
        "Each node function receives the current state and returns a new value, which overrides the graph state.\n",
        "\n",
        "The execution continues until it reaches the `END` node."
      ]
    },
    {
      "cell_type": "code",
      "execution_count": 6,
      "id": "e895f17a-e835-4e8a-8e1b-63fe6d27cc52",
      "metadata": {
        "colab": {
          "base_uri": "https://localhost:8080/"
        },
        "id": "e895f17a-e835-4e8a-8e1b-63fe6d27cc52",
        "outputId": "5ca58c8b-a229-4740-aa71-7ba64afcada3"
      },
      "outputs": [
        {
          "output_type": "stream",
          "name": "stdout",
          "text": [
            "---Node 1---\n",
            "---Node 3---\n"
          ]
        },
        {
          "output_type": "execute_result",
          "data": {
            "text/plain": [
              "{'graph_state': 'Hi, this is Lance. I am sad!'}"
            ]
          },
          "metadata": {},
          "execution_count": 6
        }
      ],
      "source": [
        "graph.invoke({\"graph_state\" : \"Hi, this is Lance.\"})"
      ]
    },
    {
      "cell_type": "markdown",
      "id": "082399c3-18bd-4b67-97c1-2005f268abc5",
      "metadata": {
        "id": "082399c3-18bd-4b67-97c1-2005f268abc5"
      },
      "source": [
        "`invoke` runs the entire graph synchronously.\n",
        "\n",
        "This waits for each step to complete before moving to the next.\n",
        "\n",
        "It returns the final state of the graph after all nodes have executed.\n",
        "\n",
        "In this case, it returns the state after `node_3` has completed:\n",
        "\n",
        "```\n",
        "{'graph_state': 'Hi, this is Lance. I am sad!'}\n",
        "```"
      ]
    },
    {
      "cell_type": "markdown",
      "source": [
        "MY EXAMPLE"
      ],
      "metadata": {
        "id": "3GlLbOycYYSS"
      },
      "id": "3GlLbOycYYSS"
    },
    {
      "cell_type": "markdown",
      "source": [
        "Defining Nodes\n",
        "\n"
      ],
      "metadata": {
        "id": "MLIj0zeUYntW"
      },
      "id": "MLIj0zeUYntW"
    },
    {
      "cell_type": "code",
      "source": [
        "def node_1(state):\n",
        "    print(\"---Node 1---\")\n",
        "    return {\"graph_state\": state['graph_state'] + \" The weather today is\"}\n",
        "\n",
        "def node_2(state):\n",
        "    print(\"---Node 2---\")\n",
        "    return {\"graph_state\": state['graph_state'] + \" sunny and bright\"}\n",
        "\n",
        "def node_3(state):\n",
        "    print(\"---Node 3---\")\n",
        "    return {\"graph_state\": state['graph_state'] + \" rainy and calm\"}\n",
        "\n",
        "def node_4(state):\n",
        "    print(\"---Node 4---\")\n",
        "    return {\"graph_state\": state['graph_state'] + \" cloudy and dull\"}\n"
      ],
      "metadata": {
        "id": "M-fYg_QyYxOD"
      },
      "id": "M-fYg_QyYxOD",
      "execution_count": 7,
      "outputs": []
    },
    {
      "cell_type": "markdown",
      "source": [
        "Defining Conditional Edges"
      ],
      "metadata": {
        "id": "cmEI6ixgZpxA"
      },
      "id": "cmEI6ixgZpxA"
    },
    {
      "cell_type": "code",
      "execution_count": 8,
      "id": "db16ab8d-b817-4f3a-befc-a02b579c4fca",
      "metadata": {
        "id": "db16ab8d-b817-4f3a-befc-a02b579c4fca"
      },
      "outputs": [],
      "source": [
        "def decide_weather(state) -> Literal[\"node_2\", \"node_3\", \"node_4\"]:\n",
        "    # Randomly pick the type of weather\n",
        "    r = random.random()\n",
        "    if r < 0.4:\n",
        "        return \"node_2\"   # 40% chance → sunny\n",
        "    elif r < 0.8:\n",
        "        return \"node_3\"   # 40% chance → rainy\n",
        "    else:\n",
        "        return \"node_4\"   # 20% chance → cloudy\n"
      ]
    },
    {
      "cell_type": "markdown",
      "source": [
        "Constructing graph"
      ],
      "metadata": {
        "id": "j9j5Vfk1ZwoO"
      },
      "id": "j9j5Vfk1ZwoO"
    },
    {
      "cell_type": "code",
      "source": [
        "# Build graph\n",
        "builder = StateGraph(State)\n",
        "builder.add_node(\"node_1\", node_1)\n",
        "builder.add_node(\"node_2\", node_2)\n",
        "builder.add_node(\"node_3\", node_3)\n",
        "builder.add_node(\"node_4\", node_4)\n",
        "\n",
        "# Define edges\n",
        "builder.add_edge(START, \"node_1\")\n",
        "builder.add_conditional_edges(\"node_1\", decide_weather)\n",
        "builder.add_edge(\"node_2\", END)\n",
        "builder.add_edge(\"node_3\", END)\n",
        "builder.add_edge(\"node_4\", END)\n",
        "\n",
        "# Compile and visualize\n",
        "graph = builder.compile()\n",
        "display(Image(graph.get_graph().draw_mermaid_png()))\n"
      ],
      "metadata": {
        "id": "VqMnP1emamUw",
        "outputId": "87185619-d61c-4605-f55e-73fe0b6ba2b0",
        "colab": {
          "base_uri": "https://localhost:8080/",
          "height": 350
        }
      },
      "id": "VqMnP1emamUw",
      "execution_count": 9,
      "outputs": [
        {
          "output_type": "display_data",
          "data": {
            "image/png": "[encoded data removed]",
            "text/plain": [
              "<IPython.core.display.Image object>"
            ]
          },
          "metadata": {}
        }
      ]
    },
    {
      "cell_type": "markdown",
      "source": [
        "Graph Invocation"
      ],
      "metadata": {
        "id": "jglE7A6LbajS"
      },
      "id": "jglE7A6LbajS"
    },
    {
      "cell_type": "code",
      "source": [
        "graph.invoke({\"graph_state\": \"How's the weather today?\"})"
      ],
      "metadata": {
        "id": "LQlfhABrbfBd",
        "outputId": "f76dc86e-7ca7-4870-9356-84396de1f83c",
        "colab": {
          "base_uri": "https://localhost:8080/"
        }
      },
      "id": "LQlfhABrbfBd",
      "execution_count": 15,
      "outputs": [
        {
          "output_type": "stream",
          "name": "stdout",
          "text": [
            "---Node 1---\n",
            "---Node 3---\n"
          ]
        },
        {
          "output_type": "execute_result",
          "data": {
            "text/plain": [
              "{'graph_state': \"How's the weather today? The weather today is rainy and calm\"}"
            ]
          },
          "metadata": {},
          "execution_count": 15
        }
      ]
    }
  ],
  "metadata": {
    "kernelspec": {
      "display_name": "Python 3 (ipykernel)",
      "language": "python",
      "name": "python3"
    },
    "language_info": {
      "codemirror_mode": {
        "name": "ipython",
        "version": 3
      },
      "file_extension": ".py",
      "mimetype": "text/x-python",
      "name": "python",
      "nbconvert_exporter": "python",
      "pygments_lexer": "ipython3",
      "version": "3.12.1"
    },
    "colab": {
      "provenance": []
    }
  },
  "nbformat": 4,
  "nbformat_minor": 5
}