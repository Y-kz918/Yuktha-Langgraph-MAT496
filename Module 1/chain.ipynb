{
  "cells": [
    {
      "cell_type": "markdown",
      "id": "4cbf2458",
      "metadata": {
        "id": "4cbf2458"
      },
      "source": [
        "[![Open in Colab](https://colab.research.google.com/assets/colab-badge.svg)](https://colab.research.google.com/github/langchain-ai/langchain-academy/blob/main/module-1/chain.ipynb) [![Open in LangChain Academy](https://cdn.prod.website-files.com/65b8cd72835ceeacd4449a53/66e9eba12c7b7688aa3dbb5e_LCA-badge-green.svg)](https://academy.langchain.com/courses/take/intro-to-langgraph/lessons/58238466-lesson-4-chain)"
      ]
    },
    {
      "cell_type": "markdown",
      "id": "ee55d3da-c53a-4c76-b46f-8e0d602e072e",
      "metadata": {
        "id": "ee55d3da-c53a-4c76-b46f-8e0d602e072e"
      },
      "source": [
        "# Chain\n",
        "\n",
        "## Review\n",
        "\n",
        "We built a simple graph with nodes, normal edges, and conditional edges.\n",
        "\n",
        "## Goals\n",
        "\n",
        "Now, let's build up to a simple chain that combines 4 [concepts](https://python.langchain.com/v0.2/docs/concepts/):\n",
        "\n",
        "* Using [chat messages](https://python.langchain.com/v0.2/docs/concepts/#messages) as our graph state\n",
        "* Using [chat models](https://python.langchain.com/v0.2/docs/concepts/#chat-models) in graph nodes\n",
        "* [Binding tools](https://python.langchain.com/v0.2/docs/concepts/#tools) to our chat model\n",
        "* [Executing tool calls](https://python.langchain.com/v0.2/docs/concepts/#functiontool-calling) in graph nodes\n",
        "\n",
        "![Screenshot 2024-08-21 at 9.24.03 AM.png](https://cdn.prod.website-files.com/65b8cd72835ceeacd4449a53/66dbab08dd607b08df5e1101_chain1.png)"
      ]
    },
    {
      "cell_type": "code",
      "execution_count": 1,
      "id": "a55e2e80-a718-4aaf-99b9-371157b34a4b",
      "metadata": {
        "id": "a55e2e80-a718-4aaf-99b9-371157b34a4b"
      },
      "outputs": [],
      "source": [
        "%%capture --no-stderr\n",
        "%pip install --quiet -U langchain_openai langchain_core langgraph"
      ]
    },
    {
      "cell_type": "markdown",
      "id": "ae5ac2d0-c7b0-4a20-86e5-4b6ed15ec20e",
      "metadata": {
        "id": "ae5ac2d0-c7b0-4a20-86e5-4b6ed15ec20e"
      },
      "source": [
        "## Messages\n",
        "\n",
        "Chat models can use [`messages`](https://python.langchain.com/v0.2/docs/concepts/#messages), which capture different roles within a conversation.\n",
        "\n",
        "LangChain supports various message types, including `HumanMessage`, `AIMessage`, `SystemMessage`, and `ToolMessage`.\n",
        "\n",
        "These represent a message from the user, from chat model, for the chat model to instruct behavior, and from a tool call.\n",
        "\n",
        "Let's create a list of messages.\n",
        "\n",
        "Each message can be supplied with a few things:\n",
        "\n",
        "* `content` - content of the message\n",
        "* `name` - optionally, a message author\n",
        "* `response_metadata` - optionally, a dict of metadata (e.g., often populated by model provider for `AIMessages`)"
      ]
    },
    {
      "cell_type": "code",
      "execution_count": 2,
      "id": "866b5321-a238-4a9e-af9e-f11a131b5f11",
      "metadata": {
        "colab": {
          "base_uri": "https://localhost:8080/"
        },
        "id": "866b5321-a238-4a9e-af9e-f11a131b5f11",
        "outputId": "0f37ac7d-d95b-454d-d017-6541e2af0d0a"
      },
      "outputs": [
        {
          "output_type": "stream",
          "name": "stdout",
          "text": [
            "==================================\u001b[1m Ai Message \u001b[0m==================================\n",
            "Name: Model\n",
            "\n",
            "So you said you were researching ocean mammals?\n",
            "================================\u001b[1m Human Message \u001b[0m=================================\n",
            "Name: Lance\n",
            "\n",
            "Yes, that's right.\n",
            "==================================\u001b[1m Ai Message \u001b[0m==================================\n",
            "Name: Model\n",
            "\n",
            "Great, what would you like to learn about.\n",
            "================================\u001b[1m Human Message \u001b[0m=================================\n",
            "Name: Lance\n",
            "\n",
            "I want to learn about the best place to see Orcas in the US.\n"
          ]
        }
      ],
      "source": [
        "from pprint import pprint\n",
        "from langchain_core.messages import AIMessage, HumanMessage\n",
        "\n",
        "messages = [AIMessage(content=f\"So you said you were researching ocean mammals?\", name=\"Model\")]\n",
        "messages.append(HumanMessage(content=f\"Yes, that's right.\",name=\"Lance\"))\n",
        "messages.append(AIMessage(content=f\"Great, what would you like to learn about.\", name=\"Model\"))\n",
        "messages.append(HumanMessage(content=f\"I want to learn about the best place to see Orcas in the US.\", name=\"Lance\"))\n",
        "\n",
        "for m in messages:\n",
        "    m.pretty_print()"
      ]
    },
    {
      "cell_type": "markdown",
      "id": "0ca48df0-b639-4ff1-a777-ffe2185d991e",
      "metadata": {
        "id": "0ca48df0-b639-4ff1-a777-ffe2185d991e"
      },
      "source": [
        "## Chat Models\n",
        "\n",
        "[Chat models](https://python.langchain.com/v0.2/docs/concepts/#chat-models) can use a sequence of message as input and support message types, as discussed above.\n",
        "\n",
        "There are [many](https://python.langchain.com/v0.2/docs/concepts/#chat-models) to choose from! Let's work with OpenAI.\n",
        "\n",
        "Let's check that your `OPENAI_API_KEY` is set and, if not, you will be asked to enter it."
      ]
    },
    {
      "cell_type": "code",
      "execution_count": 4,
      "id": "2652d5ec-7602-4220-bc6e-b90783ab287b",
      "metadata": {
        "colab": {
          "base_uri": "https://localhost:8080/"
        },
        "id": "2652d5ec-7602-4220-bc6e-b90783ab287b",
        "outputId": "fd58709e-3b76-4f81-ac4c-f481f1dbbb2d"
      },
      "outputs": [
        {
          "name": "stdout",
          "output_type": "stream",
          "text": [
            "GROQ_API_KEY: ··········\n"
          ]
        }
      ],
      "source": [
        "import os, getpass\n",
        "\n",
        "def _set_env(var: str):\n",
        "    if not os.environ.get(var):\n",
        "        os.environ[var] = getpass.getpass(f\"{var}: \")\n",
        "\n",
        "_set_env(\"GROQ_API_KEY\")"
      ]
    },
    {
      "cell_type": "markdown",
      "id": "ceae53d4-14f5-4bf3-a953-cc465240f5b5",
      "metadata": {
        "id": "ceae53d4-14f5-4bf3-a953-cc465240f5b5"
      },
      "source": [
        "We can load a chat model and invoke it with out list of messages.\n",
        "\n",
        "We can see that the result is an `AIMessage` with specific `response_metadata`."
      ]
    },
    {
      "cell_type": "code",
      "source": [
        "!pip install --quiet -U langchain_groq"
      ],
      "metadata": {
        "colab": {
          "base_uri": "https://localhost:8080/"
        },
        "id": "Qhpz1bN-3ziv",
        "outputId": "b8132131-9727-4084-d3fc-936ab78e1a43"
      },
      "id": "Qhpz1bN-3ziv",
      "execution_count": 6,
      "outputs": [
        {
          "output_type": "stream",
          "name": "stdout",
          "text": [
            "\u001b[?25l   \u001b[90m━━━━━━━━━━━━━━━━━━━━━━━━━━━━━━━━━━━━━━━━\u001b[0m \u001b[32m0.0/135.4 kB\u001b[0m \u001b[31m?\u001b[0m eta \u001b[36m-:--:--\u001b[0m\r\u001b[2K   \u001b[90m━━━━━━━━━━━━━━━━━━━━━━━━━━━━━━━━━━━━━━━━\u001b[0m \u001b[32m135.4/135.4 kB\u001b[0m \u001b[31m3.8 MB/s\u001b[0m eta \u001b[36m0:00:00\u001b[0m\n",
            "\u001b[?25h"
          ]
        }
      ]
    },
    {
      "cell_type": "code",
      "execution_count": 7,
      "id": "95b99ad4-5753-49d3-a916-a9e949722c01",
      "metadata": {
        "colab": {
          "base_uri": "https://localhost:8080/",
          "height": 186
        },
        "id": "95b99ad4-5753-49d3-a916-a9e949722c01",
        "outputId": "b40e292b-4827-4f7b-b067-288c6a158f10"
      },
      "outputs": [
        {
          "output_type": "execute_result",
          "data": {
            "text/plain": [
              "langchain_core.messages.ai.AIMessage"
            ],
            "text/html": [
              "<div style=\"max-width:800px; border: 1px solid var(--colab-border-color);\"><style>\n",
              "      pre.function-repr-contents {\n",
              "        overflow-x: auto;\n",
              "        padding: 8px 12px;\n",
              "        max-height: 500px;\n",
              "      }\n",
              "\n",
              "      pre.function-repr-contents.function-repr-contents-collapsed {\n",
              "        cursor: pointer;\n",
              "        max-height: 100px;\n",
              "      }\n",
              "    </style>\n",
              "    <pre style=\"white-space: initial; background:\n",
              "         var(--colab-secondary-surface-color); padding: 8px 12px;\n",
              "         border-bottom: 1px solid var(--colab-border-color);\"><b>langchain_core.messages.ai.AIMessage</b><br/>def __init__(content: Union[str, list[Union[str, dict]]], **kwargs: Any) -&gt; None</pre><pre class=\"function-repr-contents function-repr-contents-collapsed\" style=\"\"><a class=\"filepath\" style=\"display:none\" href=\"#\">/usr/local/lib/python3.12/dist-packages/langchain_core/messages/ai.py</a>Message from an AI.\n",
              "\n",
              "AIMessage is returned from a chat model as a response to a prompt.\n",
              "\n",
              "This message represents the output of the model and consists of both\n",
              "the raw output as returned by the model together standardized fields\n",
              "(e.g., tool calls, usage metadata) added by the LangChain framework.</pre>\n",
              "      <script>\n",
              "      if (google.colab.kernel.accessAllowed && google.colab.files && google.colab.files.view) {\n",
              "        for (const element of document.querySelectorAll('.filepath')) {\n",
              "          element.style.display = 'block'\n",
              "          element.onclick = (event) => {\n",
              "            event.preventDefault();\n",
              "            event.stopPropagation();\n",
              "            google.colab.files.view(element.textContent, 154);\n",
              "          };\n",
              "        }\n",
              "      }\n",
              "      for (const element of document.querySelectorAll('.function-repr-contents')) {\n",
              "        element.onclick = (event) => {\n",
              "          event.preventDefault();\n",
              "          event.stopPropagation();\n",
              "          element.classList.toggle('function-repr-contents-collapsed');\n",
              "        };\n",
              "      }\n",
              "      </script>\n",
              "      </div>"
            ]
          },
          "metadata": {},
          "execution_count": 7
        }
      ],
      "source": [
        "from langchain_groq import ChatGroq\n",
        "llm = ChatGroq(model=\"openai/gpt-oss-120b\")\n",
        "result = llm.invoke(messages)\n",
        "type(result)"
      ]
    },
    {
      "cell_type": "code",
      "execution_count": 8,
      "id": "88d60338-c892-4d04-a83f-878de4a76a6a",
      "metadata": {
        "colab": {
          "base_uri": "https://localhost:8080/"
        },
        "id": "88d60338-c892-4d04-a83f-878de4a76a6a",
        "outputId": "32f99660-a6d4-4293-f872-10ff53d31fe8"
      },
      "outputs": [
        {
          "output_type": "execute_result",
          "data": {
            "text/plain": [
              "AIMessage(content='## Where to See Orcas (Killer Whales) in the United States  \\n\\n| State | Hotspot | Why It’s Great | Best Time to Visit | Typical Tour Length | What You’ll Likely See |\\n|-------|---------|----------------|--------------------|---------------------|------------------------|\\n| **Washington** | **San\\u202fJuan Islands (especially Friday Harbor & Lime Kiln)** | Highest concentration of resident “resident” orcas that feed on salmon. Tours depart from Friday\\u202fHarbor, Roche\\u202fCreek, and nearby ports. | **May\\u202f–\\u202fOctober** – peak salmon runs; late‑summer (July‑Sept) is the busiest but also the most reliable. | 2–3\\u202fhrs (half‑day) or 4–5\\u202fhrs (full‑day) trips. | Pods of *J‑pods* (e.g., J‑17 “J‑Pod” with the famous “J‑17‑A” calf), *K‑pods*, *L‑pods*; often multiple pods in one outing. |\\n| **Washington** | **North Puget Sound (Whidbey Island, Deception Pass, Skagit River estuary)** | Smaller, more intimate sightings of resident pods that travel inland to feed on salmon. | **April\\u202f–\\u202fOct** (especially Sep‑Oct when salmon are spawning). | 1.5–2\\u202fhrs (small‑boat or kayak). | Solo or paired orcas, sometimes mother‑calf groups. |\\n| **Alaska** | **Kenai\\u202fPeninsula (Seward, Homer, Kenai Fjords National Park)** | “Transient” (or “Bigg’s”) orcas that hunt marine mammals; dramatic scenery. | **May\\u202f–\\u202fSep**; peak in **June‑July** when whales are feeding heavily. | 4–6\\u202fhrs (boat) or 7‑day cruise itineraries. | Pods of 5‑30 whales, often with calves; may see them breaching, tail‑slapping, and hunting seals. |\\n| **Alaska** | **Juneau & Glacier Bay** | Transient orcas that follow sea‑lion and seal populations; also resident pods that feed on fish. | **June\\u202f–\\u202fSept** (glacier‑water clarity is best). | 4‑8\\u202fhrs (day cruise) or multi‑day cruise. | Mixed‑species sightings (orcas + humpbacks + sea otters). |\\n| **Alaska** | **Prince William Sound (near Whittier, Valdez)** | Frequently visited by transient pods; excellent for combined wildlife viewing (sea otters, porpoises). | **June‑Aug** | 4‑5\\u202fhrs (small‑boat). | Pods of 5‑15 orcas, often hunting seals on ice floes. |\\n| **California** | **Monterey Bay (especially around the Monterey Bay Aquarium’s “Kelp Forest” area)** | Occasional transient orcas that follow migrating gray whales and sea‑lion colonies. | **Oct\\u202f–\\u202fApr** (when gray whales migrate). | 3‑4\\u202fhrs (boat). | Usually solitary or small groups, but sightings are less predictable. |\\n| **Maine** | **Gulf of Maine (especially around the Stellwagen Bank National Marine Sanctuary)** | Rare “North Atlantic” orcas that feed on fish and squid; sightings are occasional but spectacular. | **June\\u202f–\\u202fOct** (summer feeding season). | 2‑3\\u202fhrs (charter). | Small pods (2‑6 whales), often with a “matriarch” leading. |\\n\\n---\\n\\n### 1. Why the San\\u202fJuan Islands Are Often Called the “Orca Capital” of the U.S.\\n\\n- **Resident Pods**: These whales stay in the area year‑round, feeding on the abundant Chinook salmon that run the nearby rivers.\\n- **Predictability**: Because they have a strong site fidelity, tours can reliably spot them on most days in the summer.\\n- **Accessibility**: Friday\\u202fHarbor (San\\u202fJuan Island) has a full suite of operators, from large catamarans to intimate 12‑person kayaks.\\n- **Conservation**: The region has strict marine‑protected‑area (MPA) regulations and a robust “Responsible Whale‑Watching” code (see below).\\n\\n### 2. Transient (Bigg’s) vs. Resident Orcas – What to Expect\\n\\n| Type | Primary Diet | Typical Behavior | Typical Group Size | Typical Locations in the U.S. |\\n|------|--------------|------------------|--------------------|--------------------------------|\\n| **Resident** | Salmon (especially Chinook) | Calm, social, often surface‑breathing, “spy‑hopping” | 5‑30 (pods) | San\\u202fJuan Islands, Puget Sound, coastal WA |\\n| **Transient (Bigg’s)** | Marine mammals (seals, sea‑lion, porpoises) | Aggressive hunting tactics, breaching, tail‑slapping, “wave‑wash” | 5‑15 (pods) | Kenai Peninsula, Glacier Bay, Prince William Sound |\\n| **Offshore** (rarely seen) | Fish & squid in open ocean | Fast, rarely surface‑breathing | 2‑6 (small groups) | Occasionally off California, offshore Atlantic |\\n\\nUnderstanding the type helps you pick the experience you want: **resident** sightings are usually calmer and more “social,” while **transient** sightings can be more dramatic (hunting, breaching).\\n\\n---\\n\\n### 3. How to Choose a Tour Operator (U.S. Standards)\\n\\n| Criterion | What to Look For | Why It Matters |\\n|-----------|------------------|----------------|\\n| **Certified “Responsible Whale‑Watching”** | Membership in the *Whale Conservation International (WCI) Responsible Whale‑Watching Code* or *National Marine Sanctuaries* guidelines. | Ensures boats keep a safe distance (≥\\u202f100\\u202fft for resident, ≥\\u202f200\\u202fft for transient) and limit noise. |\\n| **Small‑Boat vs. Large‑Catamaran** | Small (≤\\u202f20\\u202fpassengers) for a more intimate experience; larger vessels for stability in rough seas. | Smaller boats can maneuver closer without disturbing the whales, but larger boats can handle rougher weather. |\\n| **Experienced Guides** | Guides with marine‑biology background or certification from *Marine Mammal Stranding Network (MMSN)*. | They can identify pods, explain behavior, and spot other wildlife. |\\n| **Conservation Commitment** | Operators that donate a portion of proceeds to local Orca research (e.g., *Center for Whale Research* in Friday Harbor). | Supports ongoing monitoring and protection. |\\n| **Safety & Comfort** | Life jackets for all, covered seating (if possible), restroom facilities, and clear cancellation policies for weather. | You’ll stay safe and dry, especially in the Pacific Northwest where rain and wind are common. |\\n\\n**Quick tip:** Many operators post real‑time “sighting reports” on their websites or social media. Checking these the day before can help you gauge the odds of a sighting.\\n\\n---\\n\\n### 4. Practical Tips for a Successful Orca‑Watching Trip\\n\\n| Tip | Details |\\n|-----|---------|\\n| **Book Early (June‑Sept)** | Summer is high demand; secure a spot 2‑3\\u202fmonths in advance, especially for San\\u202fJuan Islands. |\\n| **Dress for the Weather** | Even on a sunny day, the wind can be **15–30\\u202fmph**; wear layers, waterproof jacket, hat, and non‑slip shoes. |\\n| **Bring Binoculars & Camera** | 8‑10× binoculars help spot low‑lying whales; a camera with a 200‑mm lens (or a good smartphone with optical zoom) works well. |\\n| **Stay Quiet & Minimize Flash** | Loud chatter or bright flashes can startle the whales; keep voices low and use natural light or a low‑intensity LED. |\\n| **Respect Distance** | If a boat gets too close, most operators will slow down or change course—don’t pressure them. |\\n| **Be Patient** | Orcas can surface for just a few seconds; keep eyes on the horizon and be ready for sudden appearances. |\\n| **Consider a Kayak** | In the San\\u202fJuan Islands, guided kayak tours can bring you within 30\\u202fft of a pod, offering an unforgettable perspective (only for experienced paddlers). |\\n| **Plan for Wildlife Overlap** | In Alaska, you may also see sea lions, humpback whales, and sea otters—bring a field guide or download a wildlife ID app. |\\n| **Check Regulations** | Some areas (e.g., certain MPAs in Washington) have speed limits (≤\\u202f5\\u202fknots) and “no‑wake” zones to protect whales. |\\n\\n---\\n\\n### 5. Conservation & Research Highlights (Why Your Visit Matters)\\n\\n1. **Population Status**  \\n   - **Resident Orcas** (Southern Resident population) are listed as **Endangered** under the U.S. Endangered Species Act. Numbers have hovered around **70‑80 individuals** in recent years.  \\n   - **Transient Orcas** are not listed as endangered, but they are **vulnerable** due to prey availability and ship strikes.\\n\\n2. **Key Threats**  \\n   - **Prey Depletion**: Declining Chinook salmon runs (critical for residents).  \\n   - **Acoustic Pollution**: Vessel noise interferes with echolocation and communication.  \\n   - **Contaminants**: PCBs and other pollutants accumulate in blubber, affecting health and reproduction.\\n\\n3. **What Researchers Are Doing**  \\n   - **Photo‑Identification (Photo‑ID)**: Scientists use distinctive dorsal fin markings to track individual whales over decades. Your tour guide may point out a known individual (e.g., “J‑17‑A, the calf born in 2019”).  \\n   - **Acoustic Monitoring**: Hydrophone arrays record vocalizations to assess stress and social structure.  \\n   - **Salmon Restoration**: Habitat projects (e.g., dam removal, hatchery reforms) aim to boost Chinook runs.\\n\\n4. **How You Can Help**  \\n   - **Donate**: Organizations like the *Center for Whale Research* (San\\u202fJuan Islands) and *Alaska Whale Foundation* accept donations.  \\n   - **Advocate**: Support local measures that protect salmon habitats and limit vessel noise.  \\n   - **Practice Responsible Viewing**: Follow the guidelines above; the less disturbance you cause, the better for the whales.\\n\\n---\\n\\n### 6. Sample 3‑Day Itinerary – San\\u202fJuan Islands (Peak Summer)\\n\\n| Day | Morning | Afternoon | Evening |\\n|-----|----------|-----------|---------|\\n| **1** | Arrive in **Friday Harbor** (fly into Seattle → 1‑hr ferry). Check into a waterfront B&B. | **Introductory Whale‑Watching Tour** (2‑hr boat, 100\\u202fft distance). Learn pod identification. | Dinner at a local seafood restaurant; optional **Orca‑Talk** lecture at the Friday Harbor Lab. |\\n| **2** | **Kayak Orca Safari** (guided, 3‑hr). Launch from Lime Kiln; paddlers often get within 30\\u202fft of a pod. | Lunch on the dock, then **Salmon‑Run Hike** (Mount\\u202fLimekiln trail) for context on orca diet. | Sunset walk on the harbor; optional **Stargazing** (orcas are often heard vocalizing at dusk). |\\n| **3** | **Full‑Day Whale‑Watching Cruise** (4‑hr). Covers both resident and transient zones; higher chance of seeing multiple pods. | Return to town, souvenir shopping (local art featuring orca silhouettes). | Depart for Seattle or continue to other Pacific‑Northwest destinations. |\\n\\n*(If you have extra time, consider a day trip to **Whidbey Island** for additional resident pod sightings and a visit to the **Deception Pass State Park**.)*\\n\\n---\\n\\n### 7. Quick Reference Cheat‑Sheet (Print‑Friendly)\\n\\n```\\nBEST ORCA‑WATCHING SPOTS (US)\\n\\nWashington\\n  • San Juan Islands – May–Oct (peak July–Sept)\\n  • North Puget Sound (Whidbey Island) – Apr–Oct\\n\\nAlaska\\n  • Kenai Peninsula (Seward, Homer) – May–Sep (peak Jun–Jul)\\n  • Glacier Bay & Juneau – Jun–Sept\\n  • Prince William Sound – Jun–Aug\\n\\nCalifornia\\n  • Monterey Bay – Oct–Apr (gray‑whale migration)\\n\\nMaine\\n  • Gulf of Maine (Stellwagen Bank) – Jun–Oct (rare)\\n\\nTIPS\\n  • Dress in layers, waterproof.\\n  • Bring binoculars & 200‑mm lens.\\n  • Book 2–3 months ahead (summer).\\n  • Choose operators with “Responsible Whale‑Watching” certification.\\n  • Keep ≥100\\u202fft (resident) / ≥200\\u202fft (transient) distance.\\n  • Support conservation (donate, advocate for salmon).\\n\\nCONSERVATION NOTE\\n  • Southern Resident orcas: ~70‑80 individuals, Endangered.\\n  • Main threats: salmon decline, noise, contaminants.\\n  • Photo‑ID and acoustic monitoring are key research tools.\\n```\\n\\n---\\n\\n### 8. Ready to Book?\\n\\n- **San\\u202fJuan Islands**: *San Juan Safaris*, *San Juan Island Whale Watch*, *Orca Expeditions* (all WCI‑certified).  \\n- **Kenai Peninsula**: *Alaska Whale Watching*, *Kenai Fjords Tours*, *Homer Whale Watch*.  \\n- **Glacier Bay**: *Major Marine Tours*, *Alaska Marine Tours* (offering combined glacier & wildlife cruises).  \\n\\nIf you let me know your travel dates, budget, and whether you prefer a **small‑boat, kayak, or larger cruise** experience, I can draft a more detailed day‑by‑day plan (including lodging options, dining suggestions, and any required permits). Just say the word!', additional_kwargs={'reasoning_content': 'User wants info about best place to see Orcas in US. Provide locations, seasons, tours, guidelines. Probably include Pacific Northwest: San Juan Islands, Washington; Vancouver Island (though Canada); also Alaska (Juneau, Glacier Bay, Kenai). Also mention Puget Sound, etc. Provide tips, best times, what to expect, responsible viewing. Also maybe mention research and conservation. Provide concise answer.'}, response_metadata={'token_usage': {'completion_tokens': 3065, 'prompt_tokens': 127, 'total_tokens': 3192, 'completion_time': 6.483072819, 'prompt_time': 0.022174295, 'queue_time': 0.36901734, 'total_time': 6.505247114}, 'model_name': 'openai/gpt-oss-120b', 'system_fingerprint': 'fp_3a688838c3', 'service_tier': 'on_demand', 'finish_reason': 'stop', 'logprobs': None}, id='run--3ea224cf-ba61-4303-8688-e584d882e2dc-0', usage_metadata={'input_tokens': 127, 'output_tokens': 3065, 'total_tokens': 3192})"
            ]
          },
          "metadata": {},
          "execution_count": 8
        }
      ],
      "source": [
        "result"
      ]
    },
    {
      "cell_type": "code",
      "execution_count": 9,
      "id": "c3a29654-6b8e-4eda-9cec-22fabb9b8620",
      "metadata": {
        "colab": {
          "base_uri": "https://localhost:8080/"
        },
        "id": "c3a29654-6b8e-4eda-9cec-22fabb9b8620",
        "outputId": "0bd9f5d7-3398-467d-f479-61170d0d629f"
      },
      "outputs": [
        {
          "output_type": "execute_result",
          "data": {
            "text/plain": [
              "{'token_usage': {'completion_tokens': 3065,\n",
              "  'prompt_tokens': 127,\n",
              "  'total_tokens': 3192,\n",
              "  'completion_time': 6.483072819,\n",
              "  'prompt_time': 0.022174295,\n",
              "  'queue_time': 0.36901734,\n",
              "  'total_time': 6.505247114},\n",
              " 'model_name': 'openai/gpt-oss-120b',\n",
              " 'system_fingerprint': 'fp_3a688838c3',\n",
              " 'service_tier': 'on_demand',\n",
              " 'finish_reason': 'stop',\n",
              " 'logprobs': None}"
            ]
          },
          "metadata": {},
          "execution_count": 9
        }
      ],
      "source": [
        "result.response_metadata"
      ]
    },
    {
      "cell_type": "markdown",
      "id": "4718bd5c-5314-4405-a164-f1fe912ae306",
      "metadata": {
        "id": "4718bd5c-5314-4405-a164-f1fe912ae306"
      },
      "source": [
        "## Tools\n",
        "\n",
        "Tools are useful whenever you want a model to interact with external systems.\n",
        "\n",
        "External systems (e.g., APIs) often require a particular input schema or payload, rather than natural language.\n",
        "\n",
        "When we bind an API, for example, as a tool we given the model awareness of the required input schema.\n",
        "\n",
        "The model will choose to call a tool based upon the natural language input from the user.\n",
        "\n",
        "And, it will return an output that adheres to the tool's schema.\n",
        "\n",
        "[Many LLM providers support tool calling](https://python.langchain.com/v0.1/docs/integrations/chat/) and [tool calling interface](https://blog.langchain.dev/improving-core-tool-interfaces-and-docs-in-langchain/) in LangChain is simple.\n",
        "\n",
        "You can simply pass any Python `function` into `ChatModel.bind_tools(function)`.\n",
        "\n",
        "![Screenshot 2024-08-19 at 7.46.28 PM.png](https://cdn.prod.website-files.com/65b8cd72835ceeacd4449a53/66dbab08dc1c17a7a57f9960_chain2.png)"
      ]
    },
    {
      "cell_type": "markdown",
      "id": "17a942b1",
      "metadata": {
        "id": "17a942b1"
      },
      "source": [
        "Let's showcase a simple example of tool calling!\n",
        "\n",
        "The `multiply` function is our tool."
      ]
    },
    {
      "cell_type": "code",
      "execution_count": 10,
      "id": "928faf56-1a1a-4c5f-b97d-bd64d8e166d1",
      "metadata": {
        "id": "928faf56-1a1a-4c5f-b97d-bd64d8e166d1"
      },
      "outputs": [],
      "source": [
        "def multiply(a: int, b: int) -> int:\n",
        "    \"\"\"Multiply a and b.\n",
        "\n",
        "    Args:\n",
        "        a: first int\n",
        "        b: second int\n",
        "    \"\"\"\n",
        "    return a * b\n",
        "\n",
        "llm_with_tools = llm.bind_tools([multiply])"
      ]
    },
    {
      "cell_type": "markdown",
      "id": "8a3f9dba",
      "metadata": {
        "id": "8a3f9dba"
      },
      "source": [
        "If we pass an input - e.g., `\"What is 2 multiplied by 3\"` - we see a tool call returned.\n",
        "\n",
        "The tool call has specific arguments that match the input schema of our function along with the name of the function to call.\n",
        "\n",
        "```\n",
        "{'arguments': '{\"a\":2,\"b\":3}', 'name': 'multiply'}\n",
        "```"
      ]
    },
    {
      "cell_type": "code",
      "execution_count": 11,
      "id": "9edbe13e-cc72-4685-ac97-2ebb4ceb2544",
      "metadata": {
        "id": "9edbe13e-cc72-4685-ac97-2ebb4ceb2544"
      },
      "outputs": [],
      "source": [
        "tool_call = llm_with_tools.invoke([HumanMessage(content=f\"What is 2 multiplied by 3\", name=\"Lance\")])"
      ]
    },
    {
      "cell_type": "code",
      "execution_count": 12,
      "id": "a78178cb-fa43-45b5-be5e-5a22bda5a5e7",
      "metadata": {
        "colab": {
          "base_uri": "https://localhost:8080/"
        },
        "id": "a78178cb-fa43-45b5-be5e-5a22bda5a5e7",
        "outputId": "e02b3be2-a092-42db-ce71-17c5b1e77cf3"
      },
      "outputs": [
        {
          "output_type": "execute_result",
          "data": {
            "text/plain": [
              "[]"
            ]
          },
          "metadata": {},
          "execution_count": 12
        }
      ],
      "source": [
        "tool_call.tool_calls"
      ]
    },
    {
      "cell_type": "markdown",
      "id": "21c10f9a-2372-486b-9305-55b7c41ecd6e",
      "metadata": {
        "id": "21c10f9a-2372-486b-9305-55b7c41ecd6e"
      },
      "source": [
        "## Using messages as state\n",
        "\n",
        "With these foundations in place, we can now use [`messages`](https://python.langchain.com/v0.2/docs/concepts/#messages) in our graph state.\n",
        "\n",
        "Let's define our state, `MessagesState`, as a `TypedDict` with a single key: `messages`.\n",
        "\n",
        "`messages` is simply a list of messages, as we defined above (e.g., `HumanMessage`, etc)."
      ]
    },
    {
      "cell_type": "code",
      "execution_count": 13,
      "id": "3699dd5c-398c-43c7-b496-fd87e55e11ca",
      "metadata": {
        "id": "3699dd5c-398c-43c7-b496-fd87e55e11ca"
      },
      "outputs": [],
      "source": [
        "from typing_extensions import TypedDict\n",
        "from langchain_core.messages import AnyMessage\n",
        "\n",
        "class MessagesState(TypedDict):\n",
        "    messages: list[AnyMessage]"
      ]
    },
    {
      "cell_type": "markdown",
      "id": "211cba3e-ebba-4b91-a539-1cbc28b4a40e",
      "metadata": {
        "id": "211cba3e-ebba-4b91-a539-1cbc28b4a40e"
      },
      "source": [
        "## Reducers\n",
        "\n",
        "Now, we have a minor problem!\n",
        "\n",
        "As we discussed, each node will return a new value for our state key `messages`.\n",
        "\n",
        "But, this new value [will override](https://langchain-ai.github.io/langgraph/concepts/low_level/#reducers) the prior `messages` value.\n",
        "\n",
        "As our graph runs, we want to **append** messages to our `messages` state key.\n",
        "\n",
        "We can use [reducer functions](https://langchain-ai.github.io/langgraph/concepts/low_level/#reducers) to address this.\n",
        "\n",
        "Reducers allow us to specify how state updates are performed.\n",
        "\n",
        "If no reducer function is specified, then it is assumed that updates to the key should *override it* as we saw before.\n",
        "\n",
        "But, to append messages, we can use the pre-built `add_messages` reducer.\n",
        "\n",
        "This ensures that any messages are appended to the existing list of messages.\n",
        "\n",
        "We simply need to annotate our `messages` key with the `add_messages` reducer function as metadata."
      ]
    },
    {
      "cell_type": "code",
      "execution_count": 14,
      "id": "6b33eb72-3197-4870-b9a3-0da8056c40c5",
      "metadata": {
        "id": "6b33eb72-3197-4870-b9a3-0da8056c40c5"
      },
      "outputs": [],
      "source": [
        "from typing import Annotated\n",
        "from langgraph.graph.message import add_messages\n",
        "\n",
        "class MessagesState(TypedDict):\n",
        "    messages: Annotated[list[AnyMessage], add_messages]"
      ]
    },
    {
      "cell_type": "markdown",
      "id": "3663e574-ba15-46be-a37c-48c8052d693b",
      "metadata": {
        "id": "3663e574-ba15-46be-a37c-48c8052d693b"
      },
      "source": [
        "Since having a list of messages in graph state is so common, LangGraph has a pre-built [`MessagesState`](https://langchain-ai.github.io/langgraph/concepts/low_level/#messagesstate)!\n",
        "\n",
        "`MessagesState` is defined:\n",
        "\n",
        "* With a pre-build single `messages` key\n",
        "* This is a list of `AnyMessage` objects\n",
        "* It uses the `add_messages` reducer\n",
        "\n",
        "We'll usually use `MessagesState` because it is less verbose than defining a custom `TypedDict`, as shown above."
      ]
    },
    {
      "cell_type": "code",
      "execution_count": 15,
      "id": "9ab516ee-eab1-4856-8210-99f1fe499672",
      "metadata": {
        "id": "9ab516ee-eab1-4856-8210-99f1fe499672"
      },
      "outputs": [],
      "source": [
        "from langgraph.graph import MessagesState\n",
        "\n",
        "class MessagesState(MessagesState):\n",
        "    # Add any keys needed beyond messages, which is pre-built\n",
        "    pass"
      ]
    },
    {
      "cell_type": "markdown",
      "id": "36b0fff7-60a2-4582-8f12-3a3ab6633d6c",
      "metadata": {
        "id": "36b0fff7-60a2-4582-8f12-3a3ab6633d6c"
      },
      "source": [
        "To go a bit deeper, we can see how the `add_messages` reducer works in isolation."
      ]
    },
    {
      "cell_type": "code",
      "execution_count": 16,
      "id": "23ffea76-16a5-4053-a1bc-91e0101d91dc",
      "metadata": {
        "colab": {
          "base_uri": "https://localhost:8080/"
        },
        "id": "23ffea76-16a5-4053-a1bc-91e0101d91dc",
        "outputId": "8bb7be18-cc55-4ec0-f7d6-74d0cbc10df7"
      },
      "outputs": [
        {
          "output_type": "execute_result",
          "data": {
            "text/plain": [
              "[AIMessage(content='Hello! How can I assist you?', additional_kwargs={}, response_metadata={}, name='Model', id='163f85e2-cce7-4baa-81e7-db2e41e6548b'),\n",
              " HumanMessage(content=\"I'm looking for information on marine biology.\", additional_kwargs={}, response_metadata={}, name='Lance', id='97ba1d80-5c20-4a7b-9ee6-f132b07780d4'),\n",
              " AIMessage(content='Sure, I can help with that. What specifically are you interested in?', additional_kwargs={}, response_metadata={}, name='Model', id='c126ffee-1b58-4283-a865-64c8c0aacf99')]"
            ]
          },
          "metadata": {},
          "execution_count": 16
        }
      ],
      "source": [
        "# Initial state\n",
        "initial_messages = [AIMessage(content=\"Hello! How can I assist you?\", name=\"Model\"),\n",
        "                    HumanMessage(content=\"I'm looking for information on marine biology.\", name=\"Lance\")\n",
        "                   ]\n",
        "\n",
        "# New message to add\n",
        "new_message = AIMessage(content=\"Sure, I can help with that. What specifically are you interested in?\", name=\"Model\")\n",
        "\n",
        "# Test\n",
        "add_messages(initial_messages , new_message)"
      ]
    },
    {
      "cell_type": "markdown",
      "id": "485adccc-f262-49dd-af4f-a30e9b6a48e2",
      "metadata": {
        "id": "485adccc-f262-49dd-af4f-a30e9b6a48e2"
      },
      "source": [
        "## Our graph\n",
        "\n",
        "Now, lets use `MessagesState` with a graph."
      ]
    },
    {
      "cell_type": "code",
      "execution_count": 17,
      "id": "b5306639-7e6a-44be-8471-8d2631701cfb",
      "metadata": {
        "colab": {
          "base_uri": "https://localhost:8080/",
          "height": 251
        },
        "id": "b5306639-7e6a-44be-8471-8d2631701cfb",
        "outputId": "d14af76c-1e8c-429d-c4df-270a2133bfcc"
      },
      "outputs": [
        {
          "output_type": "display_data",
          "data": {
            "image/png": "[encoded data removed]",
            "text/plain": [
              "<IPython.core.display.Image object>"
            ]
          },
          "metadata": {}
        }
      ],
      "source": [
        "from IPython.display import Image, display\n",
        "from langgraph.graph import StateGraph, START, END\n",
        "\n",
        "# Node\n",
        "def tool_calling_llm(state: MessagesState):\n",
        "    return {\"messages\": [llm_with_tools.invoke(state[\"messages\"])]}\n",
        "\n",
        "# Build graph\n",
        "builder = StateGraph(MessagesState)\n",
        "builder.add_node(\"tool_calling_llm\", tool_calling_llm)\n",
        "builder.add_edge(START, \"tool_calling_llm\")\n",
        "builder.add_edge(\"tool_calling_llm\", END)\n",
        "graph = builder.compile()\n",
        "\n",
        "# View\n",
        "display(Image(graph.get_graph().draw_mermaid_png()))"
      ]
    },
    {
      "cell_type": "markdown",
      "id": "e8909771-7786-47d6-a53d-6bbc3b365737",
      "metadata": {
        "id": "e8909771-7786-47d6-a53d-6bbc3b365737"
      },
      "source": [
        "If we pass in `Hello!`, the LLM responds without any tool calls."
      ]
    },
    {
      "cell_type": "code",
      "execution_count": 18,
      "id": "983e2487-c0a5-40a2-afbc-aa53ff49fefc",
      "metadata": {
        "colab": {
          "base_uri": "https://localhost:8080/"
        },
        "id": "983e2487-c0a5-40a2-afbc-aa53ff49fefc",
        "outputId": "fe731fa7-05ef-4feb-9c3c-a6cc09af2836"
      },
      "outputs": [
        {
          "output_type": "stream",
          "name": "stdout",
          "text": [
            "================================\u001b[1m Human Message \u001b[0m=================================\n",
            "\n",
            "Hello!\n",
            "==================================\u001b[1m Ai Message \u001b[0m==================================\n",
            "\n",
            "Hello! How can I assist you today?\n"
          ]
        }
      ],
      "source": [
        "messages = graph.invoke({\"messages\": HumanMessage(content=\"Hello!\")})\n",
        "for m in messages['messages']:\n",
        "    m.pretty_print()"
      ]
    },
    {
      "cell_type": "markdown",
      "id": "3588688b-efd9-4dbc-abf2-7903e3ef89ba",
      "metadata": {
        "id": "3588688b-efd9-4dbc-abf2-7903e3ef89ba"
      },
      "source": [
        "The LLM chooses to use a tool when it determines that the input or task requires the functionality provided by that tool."
      ]
    },
    {
      "cell_type": "code",
      "execution_count": 19,
      "id": "7fe8b042-ecc8-426f-995e-cc1bbaf7cacc",
      "metadata": {
        "colab": {
          "base_uri": "https://localhost:8080/"
        },
        "id": "7fe8b042-ecc8-426f-995e-cc1bbaf7cacc",
        "outputId": "33015bca-7799-4945-9183-8ebe22d40196"
      },
      "outputs": [
        {
          "output_type": "stream",
          "name": "stdout",
          "text": [
            "================================\u001b[1m Human Message \u001b[0m=================================\n",
            "\n",
            "Multiply 2 and 3\n",
            "==================================\u001b[1m Ai Message \u001b[0m==================================\n",
            "Tool Calls:\n",
            "  multiply (fc_f9c26e59-6230-4bdc-a638-cc715b533a9b)\n",
            " Call ID: fc_f9c26e59-6230-4bdc-a638-cc715b533a9b\n",
            "  Args:\n",
            "    a: 2\n",
            "    b: 3\n"
          ]
        }
      ],
      "source": [
        "messages = graph.invoke({\"messages\": HumanMessage(content=\"Multiply 2 and 3\")})\n",
        "for m in messages['messages']:\n",
        "    m.pretty_print()"
      ]
    },
    {
      "cell_type": "markdown",
      "metadata": {
        "id": "4c17cf1d"
      },
      "source": [
        "Let's define another tool, this time for adding two numbers."
      ],
      "id": "4c17cf1d"
    },
    {
      "cell_type": "code",
      "metadata": {
        "id": "72567573"
      },
      "source": [
        "def subtract(a: int, b: int) -> int:\n",
        "    \"\"\"Subtract b from a.\n",
        "\n",
        "    Args:\n",
        "        a: first int\n",
        "        b: second int\n",
        "    \"\"\"\n",
        "    return a - b\n",
        "\n",
        "llm_with_subtract_tool = llm.bind_tools([subtract])"
      ],
      "id": "72567573",
      "execution_count": 29,
      "outputs": []
    },
    {
      "cell_type": "markdown",
      "metadata": {
        "id": "84ae128d"
      },
      "source": [
        "Now, let's invoke the LLM with a query that requires the subtraction tool."
      ],
      "id": "84ae128d"
    },
    {
      "cell_type": "code",
      "metadata": {
        "colab": {
          "base_uri": "https://localhost:8080/"
        },
        "id": "12927941",
        "outputId": "505e5b9a-f5dd-4e56-8e45-9b95b03b1bae"
      },
      "source": [
        "subtract_tool_call.tool_calls"
      ],
      "id": "12927941",
      "execution_count": 30,
      "outputs": [
        {
          "output_type": "execute_result",
          "data": {
            "text/plain": [
              "[{'name': 'subtract',\n",
              "  'args': {'a': 10, 'b': 5},\n",
              "  'id': 'fc_3d0bf93f-0c96-4019-90a6-cef140a7915b',\n",
              "  'type': 'tool_call'}]"
            ]
          },
          "metadata": {},
          "execution_count": 30
        }
      ]
    },
    {
      "cell_type": "markdown",
      "metadata": {
        "id": "532959f4"
      },
      "source": [
        "We can inspect the tool call to see the arguments the LLM generated for the `subtract` function."
      ],
      "id": "532959f4"
    },
    {
      "cell_type": "code",
      "metadata": {
        "colab": {
          "base_uri": "https://localhost:8080/"
        },
        "id": "e78ba773",
        "outputId": "a932dfa8-1255-4472-92cb-7a8750e56bab"
      },
      "source": [
        "subtract_tool_call = llm_with_subtract_tool.invoke([HumanMessage(content=\"What is 10 minus 5?\", name=\"Lance\")])\n",
        "subtract_tool_call.pretty_print()"
      ],
      "id": "e78ba773",
      "execution_count": 34,
      "outputs": [
        {
          "output_type": "stream",
          "name": "stdout",
          "text": [
            "==================================\u001b[1m Ai Message \u001b[0m==================================\n",
            "\n",
            "10 − 5 = 5.\n"
          ]
        }
      ]
    }
  ],
  "metadata": {
    "kernelspec": {
      "display_name": "lc-academy-env",
      "language": "python",
      "name": "python3"
    },
    "language_info": {
      "codemirror_mode": {
        "name": "ipython",
        "version": 3
      },
      "file_extension": ".py",
      "mimetype": "text/x-python",
      "name": "python",
      "nbconvert_exporter": "python",
      "pygments_lexer": "ipython3",
      "version": "3.11.8"
    },
    "colab": {
      "provenance": []
    }
  },
  "nbformat": 4,
  "nbformat_minor": 5
}